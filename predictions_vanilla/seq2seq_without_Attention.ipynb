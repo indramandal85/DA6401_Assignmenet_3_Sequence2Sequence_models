{
 "cells": [
  {
   "cell_type": "code",
   "execution_count": 3,
   "id": "8f78bd5c",
   "metadata": {},
   "outputs": [
    {
     "name": "stdout",
     "output_type": "stream",
     "text": [
      "Library Versions:\n",
      "numpy: 2.0.2\n",
      "pandas: 2.2.3\n",
      "torch: 2.7.0\n",
      "PIL (Pillow): 11.2.1\n",
      "tqdm: 4.67.1\n",
      "matplotlib: 3.9.4\n",
      "wandb: 0.19.11\n",
      "random: builtin\n",
      "time: builtin\n",
      "math: builtin\n",
      "csv: builtin\n",
      "io: builtin\n",
      "datetime: builtin\n",
      "copy: builtin\n",
      "collections: builtin\n"
     ]
    },
    {
     "name": "stderr",
     "output_type": "stream",
     "text": [
      "\u001b[34m\u001b[1mwandb\u001b[0m: \u001b[33mWARNING\u001b[0m If you're specifying your api key in code, ensure this code is not shared publicly.\n",
      "\u001b[34m\u001b[1mwandb\u001b[0m: \u001b[33mWARNING\u001b[0m Consider setting the WANDB_API_KEY environment variable, or running `wandb login` from the command line.\n",
      "\u001b[34m\u001b[1mwandb\u001b[0m: Appending key for api.wandb.ai to your netrc file: /Users/indramandal/.netrc\n",
      "\u001b[34m\u001b[1mwandb\u001b[0m: Currently logged in as: \u001b[33med24s014\u001b[0m (\u001b[33med24s014-indian-institute-of-technology-madras\u001b[0m) to \u001b[32mhttps://api.wandb.ai\u001b[0m. Use \u001b[1m`wandb login --relogin`\u001b[0m to force relogin\n"
     ]
    },
    {
     "data": {
      "text/plain": [
       "True"
      ]
     },
     "execution_count": 3,
     "metadata": {},
     "output_type": "execute_result"
    }
   ],
   "source": [
    "import numpy as np\n",
    "import pandas as pd\n",
    "import torch\n",
    "import random\n",
    "import time\n",
    "import math\n",
    "import csv\n",
    "from PIL import Image\n",
    "import io\n",
    "import tqdm  # Fix: import module directly\n",
    "from datetime import datetime\n",
    "import matplotlib\n",
    "import matplotlib.pyplot as plt\n",
    "import matplotlib.font_manager as fm\n",
    "import copy\n",
    "from copy import deepcopy\n",
    "import torch.nn as nn\n",
    "import torch.optim as optim\n",
    "from collections import Counter\n",
    "from torch.nn.utils.rnn import pad_sequence\n",
    "from torch.utils.data import DataLoader, Dataset\n",
    "import wandb\n",
    "\n",
    "# Show library versions\n",
    "print(\"Library Versions:\")\n",
    "print(f\"numpy: {np.__version__}\")\n",
    "print(f\"pandas: {pd.__version__}\")\n",
    "print(f\"torch: {torch.__version__}\")\n",
    "print(f\"PIL (Pillow): {Image.__version__}\")\n",
    "print(f\"tqdm: {tqdm.__version__}\")  # Fixed\n",
    "print(f\"matplotlib: {matplotlib.__version__}\")  # Fixed\n",
    "print(f\"wandb: {wandb.__version__}\")\n",
    "\n",
    "# Standard libraries (no version attribute, shown as 'builtin')\n",
    "print(\"random: builtin\")\n",
    "print(\"time: builtin\")\n",
    "print(\"math: builtin\")\n",
    "print(\"csv: builtin\")\n",
    "print(\"io: builtin\")\n",
    "print(\"datetime: builtin\")\n",
    "print(\"copy: builtin\")\n",
    "print(\"collections: builtin\")\n",
    "\n",
    "\n",
    "\n",
    "wandb.login(key = '5df7feeffbc5b918c8947f5fe4bab4b67ebfbb69')\n"
   ]
  },
  {
   "cell_type": "markdown",
   "id": "a7150795",
   "metadata": {},
   "source": [
    "### Setting File Paths for Dataset\n",
    "This cell defines the file paths for the training, development, and test datasets. The datasets are part of the Dakshina dataset and are stored locally in .tsv format. These paths are used for loading data for preprocessing and model training."
   ]
  },
  {
   "cell_type": "code",
   "execution_count": 2,
   "id": "6065adee",
   "metadata": {},
   "outputs": [],
   "source": [
    "train_df =('/Users/indramandal/Documents/VS_CODE/DA6401/DA6401_Assignment_3/predictions_vanilla/dakshina_dataset_v1.0/bn/lexicons/bn.translit.sampled.train.tsv')\n",
    "dev_df = ('/Users/indramandal/Documents/VS_CODE/DA6401/DA6401_Assignment_3/predictions_vanilla/dakshina_dataset_v1.0/bn/lexicons/bn.translit.sampled.dev.tsv')\n",
    "test_df = ('/Users/indramandal/Documents/VS_CODE/DA6401/DA6401_Assignment_3/predictions_vanilla/dakshina_dataset_v1.0/bn/lexicons/bn.translit.sampled.test.tsv')"
   ]
  },
  {
   "cell_type": "markdown",
   "id": "891915e5",
   "metadata": {},
   "source": [
    "### Data Preprocessing Class for Sequence-to-Sequence Tasks\n",
    "This cell defines a class SequenceDataPreprocessor that:\n",
    "\n",
    "- Reads data from the provided file paths.\n",
    "- Tokenizes input and target sequences.\n",
    "- Builds vocabularies including special tokens like <sos>, <eos>, <pad>, and <unk>.\n",
    "- Encodes sequences into tensors.\n",
    "- Pads sequences to form uniform tensor batches.\n",
    "- The class prepares the data for input into a sequence-to-sequence model."
   ]
  },
  {
   "cell_type": "code",
   "execution_count": null,
   "id": "c3726a85",
   "metadata": {},
   "outputs": [],
   "source": [
    "\n",
    "\"\"\"\n",
    "SequenceDataPreprocessor: A clean and modular data preparation class for sequence-to-sequence models.\n",
    "\n",
    "This class streamlines the loading, tokenization, vocabulary creation, encoding, and padding of paired\n",
    "input-target sequence data for NLP tasks like transliteration or translation.\n",
    "\n",
    "Key Features:\n",
    "- Special tokens: <sos>, <eos>, <pad>, <unk> are handled automatically.\n",
    "- Reads TSV-format data with columns: target, input, count.\n",
    "- Builds token vocabularies if not provided.\n",
    "- Encodes character sequences into tensors using token-to-index mappings.\n",
    "- Pads variable-length sequences for efficient batch training.\n",
    "\n",
    "Returns:\n",
    "- Padded input and target tensors\n",
    "- Input and output vocabularies as token-to-index mappings\n",
    "\n",
    "Usage:\n",
    "    preprocessor = SequenceDataPreprocessor(path=\"data.tsv\")\n",
    "    input_tensor, target_tensor, input_vocab, output_vocab = preprocessor.prepare_tensors()\n",
    "\"\"\"\n",
    "\n",
    "\n",
    "# Special tokens\n",
    "SOS = '<sos>'\n",
    "EOS = '<eos>'\n",
    "PAD = '<pad>'\n",
    "UNK = '<unk>'\n",
    "\n",
    "class SequenceDataPreprocessor:\n",
    "    def __init__(self, path, input_vocab=None, output_vocab=None):\n",
    "        self.path = path\n",
    "        self.input_token_to_idx = input_vocab\n",
    "        self.output_token_to_idx = output_vocab\n",
    "\n",
    "    def read_data(self, file_path):\n",
    "        df = pd.read_csv(file_path, sep=\"\\t\", names=[\"target\", \"input\", \"count\"]).astype(str)\n",
    "        inputs, outputs = [], []\n",
    "        for _, row in df.iterrows():\n",
    "            inp = list(row['input'])\n",
    "            out = [SOS] + list(row['target']) + [EOS]\n",
    "            inputs.append(inp)\n",
    "            outputs.append(out)\n",
    "        return inputs, outputs\n",
    "\n",
    "    def build_vocab(self, sequences):\n",
    "        all_tokens = [token for seq in sequences for token in seq]\n",
    "        counts = Counter(all_tokens)\n",
    "\n",
    "        specials_list = [PAD, SOS, EOS, UNK]\n",
    "        for token in specials_list:\n",
    "            counts[token] = counts.get(token, 1)\n",
    "\n",
    "        normal_tokens = sorted([tok for tok in counts if tok not in specials_list])\n",
    "        tokens = specials_list + normal_tokens\n",
    "\n",
    "        return {token: idx for idx, token in enumerate(tokens)}\n",
    "\n",
    "    def encode_sequences(self, sequences, vocab):\n",
    "        unk_idx = vocab.get(UNK, vocab.get(PAD, 0))  # Fallback\n",
    "        return [torch.tensor([vocab.get(token, unk_idx) for token in seq], dtype=torch.long) for seq in sequences]\n",
    "\n",
    "    def pad_batch(self, batch, pad_idx):\n",
    "        return pad_sequence(batch, batch_first=True, padding_value=pad_idx)\n",
    "\n",
    "    def prepare_tensors(self):\n",
    "        inputs, targets = self.read_data(self.path)\n",
    "\n",
    "        # Build vocab if not provided\n",
    "        if self.input_token_to_idx is None:\n",
    "            self.input_token_to_idx = self.build_vocab(inputs)\n",
    "        if self.output_token_to_idx is None:\n",
    "            self.output_token_to_idx = self.build_vocab(targets)\n",
    "\n",
    "        # Check PAD is in vocab\n",
    "        if PAD not in self.input_token_to_idx or PAD not in self.output_token_to_idx:\n",
    "            raise ValueError(\"PAD token not found in vocab. Ensure special tokens are added in build_vocab.\")\n",
    "\n",
    "        input_ids = self.encode_sequences(inputs, self.input_token_to_idx)\n",
    "        target_ids = self.encode_sequences(targets, self.output_token_to_idx)\n",
    "\n",
    "        input_tensor = self.pad_batch(input_ids, self.input_token_to_idx[PAD])\n",
    "        target_tensor = self.pad_batch(target_ids, self.output_token_to_idx[PAD])\n",
    "\n",
    "        return input_tensor, target_tensor, self.input_token_to_idx, self.output_token_to_idx\n"
   ]
  },
  {
   "cell_type": "markdown",
   "id": "b905e701",
   "metadata": {},
   "source": [
    "### Defining Dataset File Paths\n",
    "Paths to the training, validation, and test datasets are defined here. These are used later for loading and preprocessing the data."
   ]
  },
  {
   "cell_type": "code",
   "execution_count": null,
   "id": "7157170a",
   "metadata": {},
   "outputs": [],
   "source": [
    "\"\"\"\n",
    "Custom PyTorch Dataset class for sequence-to-sequence models.\n",
    "\n",
    "This class wraps input and target tensors into a PyTorch-compatible Dataset object, \n",
    "allowing use with DataLoader for efficient batching, shuffling, and sampling.\n",
    "\n",
    "Args:\n",
    "    input_tensor (torch.Tensor): Tensor containing input sequences (e.g., tokenized source sentences).\n",
    "    target_tensor (torch.Tensor): Tensor containing target sequences (e.g., tokenized target sentences).\n",
    "\n",
    "Methods:\n",
    "    __len__: Returns the total number of samples in the dataset.\n",
    "    __getitem__: Returns a tuple of (input_tensor[idx], target_tensor[idx]) for a given index.\n",
    "\n",
    "Example:\n",
    "    dataset = Datasets(input_tensor, target_tensor)\n",
    "    dataloader = DataLoader(dataset, batch_size=32, shuffle=True)\n",
    "\"\"\"\n",
    "\n",
    "class Datasets(Dataset):\n",
    "    def __init__(self, input_tensor, target_tensor):\n",
    "        self.input_tensor = input_tensor\n",
    "        self.target_tensor = target_tensor\n",
    "\n",
    "    def __len__(self):\n",
    "        return self.input_tensor.shape[0]\n",
    "\n",
    "    def __getitem__(self, idx):\n",
    "        if torch.is_tensor(idx):\n",
    "            idx = idx.tolist()\n",
    "        return self.input_tensor[idx], self.target_tensor[idx]\n"
   ]
  },
  {
   "cell_type": "markdown",
   "id": "e50211d5",
   "metadata": {},
   "source": [
    "### Encoder Model Definition\n",
    "Defines the Encoder part of the Seq2Seq model using an embedding layer followed by a GRU layer.\n",
    "\n"
   ]
  },
  {
   "cell_type": "code",
   "execution_count": null,
   "id": "af4274ee",
   "metadata": {},
   "outputs": [],
   "source": [
    "class Encoder(nn.Module):\n",
    "    \"\"\"\n",
    "    Encoder module for a sequence-to-sequence (Seq2Seq) model.\n",
    "\n",
    "    This encoder can be configured to use RNN, LSTM, or GRU layers with optional bidirectionality. \n",
    "    It takes an input sequence of token indices, embeds them into a dense vector space, and then \n",
    "    processes them through one of the specified recurrent layers.\n",
    "\n",
    "    Parameters:\n",
    "    -----------\n",
    "    input_size : int\n",
    "        Vocabulary size of the input sequence.\n",
    "    layer_type : str\n",
    "        Type of recurrent layer to use: \"rnn\", \"lstm\", or \"gru\".\n",
    "    emb_dim : int\n",
    "        Dimension of the embedding vector.\n",
    "    hidden_layers_size : int\n",
    "        Number of hidden units in each recurrent layer.\n",
    "    num_encod_layers : int\n",
    "        Number of recurrent layers in the encoder.\n",
    "    dropout_rate : float\n",
    "        Dropout rate applied between recurrent layers (if num_encod_layers > 1).\n",
    "    pad_index : int\n",
    "        Index used for padding in the input sequence; this is ignored in embeddings.\n",
    "    bidirectional : bool, optional (default=False)\n",
    "        If True, makes the recurrent layers bidirectional.\n",
    "\n",
    "    Attributes:\n",
    "    -----------\n",
    "    embed : nn.Embedding\n",
    "        Embedding layer for input tokens.\n",
    "    layer : nn.RNN / nn.LSTM / nn.GRU\n",
    "        The selected recurrent layer initialized based on the `layer_type`.\n",
    "\n",
    "    Forward Input:\n",
    "    --------------\n",
    "    input_seq : Tensor of shape (batch_size, seq_length)\n",
    "        Sequence of token indices to be encoded.\n",
    "\n",
    "    Forward Output:\n",
    "    ---------------\n",
    "    hidden : Tensor\n",
    "        Final hidden state(s) from the encoder.\n",
    "    cell : Tensor or None\n",
    "        Final cell state (for LSTM only); None otherwise.\n",
    "\n",
    "    Notes:\n",
    "    ------\n",
    "    - If LSTM is used, both `hidden` and `cell` states are returned.\n",
    "    - For RNN and GRU, `cell` is returned as `None`.\n",
    "    \"\"\"\n",
    "\n",
    "    def __init__(self, input_size, layer_type, emb_dim, hidden_layers_size, num_encod_layers, dropout_rate, pad_index, bidirectional=False):\n",
    "        super().__init__()\n",
    "        self.layer_type = layer_type\n",
    "        self.layers = self.layer_mode(layer_type)\n",
    "        self.bidirectional = bidirectional  # Store bidirectional flag\n",
    "        self.num_encod_layers = num_encod_layers\n",
    "\n",
    "        self.embed = nn.Embedding(input_size, emb_dim, padding_idx=pad_index)\n",
    "        self.layer = self.layers(\n",
    "            emb_dim, \n",
    "            hidden_layers_size, \n",
    "            num_encod_layers,\n",
    "            batch_first=True,\n",
    "            bidirectional=bidirectional,\n",
    "            dropout=dropout_rate if num_encod_layers > 1 else 0\n",
    "        )\n",
    "\n",
    "    def layer_mode(self, layer_type):\n",
    "        layer_type = layer_type.lower()\n",
    "        if layer_type == \"rnn\":\n",
    "            return nn.RNN\n",
    "        elif layer_type == \"lstm\":\n",
    "            return nn.LSTM\n",
    "        else:\n",
    "            return nn.GRU\n",
    "\n",
    "    def forward(self, input_seq):\n",
    "        embed = self.embed(input_seq)\n",
    "        if self.layer_type == \"lstm\":\n",
    "            outputs, (hidden, cell) = self.layer(embed)\n",
    "        else:\n",
    "            outputs, hidden = self.layer(embed)\n",
    "            cell = None\n",
    "        return hidden, cell"
   ]
  },
  {
   "cell_type": "markdown",
   "id": "47d46e73",
   "metadata": {},
   "source": [
    "### Decoder Model Definition\n",
    "Defines the Decoder with embedding, GRU, and a linear output layer. It predicts one token at a time during training and inference.\n",
    "\n"
   ]
  },
  {
   "cell_type": "code",
   "execution_count": null,
   "id": "66af830d",
   "metadata": {},
   "outputs": [],
   "source": [
    "\n",
    "class Decoder(nn.Module):\n",
    "    \"\"\"\n",
    "    Decoder Module for Sequence-to-Sequence Models\n",
    "    ------------------------------------------------\n",
    "\n",
    "    This Decoder class is designed for use in sequence-to-sequence architectures, such as machine translation\n",
    "    or transliteration tasks. It supports different recurrent layers (RNN, LSTM, GRU), and is structured \n",
    "    for flexibility, modularity, and compatibility with varying model configurations.\n",
    "\n",
    "    Key Components:\n",
    "    ---------------\n",
    "    1. **Embedding Layer**: Converts integer input tokens into dense vector representations. The `padding_idx` \n",
    "    ensures that padding tokens do not contribute to learning during training.\n",
    "\n",
    "    2. **Recurrent Layer**: Dynamically chosen from RNN, LSTM, or GRU based on the `layer_type` argument.\n",
    "    - Accepts configurable input/output sizes, number of layers, bidirectionality, and dropout.\n",
    "    - Uses `batch_first=True` to ensure input tensors are shaped as (batch, sequence, features).\n",
    "\n",
    "    3. **Fully Connected Layer**: Maps the output of the RNN to the final vocabulary size for word prediction.\n",
    "\n",
    "    4. **Forward Method**:\n",
    "    - Inputs are embedded and passed through the recurrent layer.\n",
    "    - Handles both LSTM (which returns hidden and cell states) and non-LSTM layers (which return only hidden states).\n",
    "    - Output is transformed via a linear layer to predict the next token in the sequence.\n",
    "\n",
    "    Customization Features:\n",
    "    -----------------------\n",
    "    - Works with multi-layered, bidirectional RNNs.\n",
    "    - Clean separation of logic for each recurrent layer type.\n",
    "    - Easily extendable and integrates well with attention mechanisms and encoder-decoder pipelines.\n",
    "\n",
    "    This implementation emphasizes modularity and clarity while allowing fine control over decoder behavior in \n",
    "    NLP tasks involving sequence generation.\n",
    "    \"\"\"\n",
    "\n",
    "    def __init__(self, input_size, output_size, layer_type, emb_dim, hidden_layers_size,\n",
    "                 num_decod_layers, dropout_rate, pad_index, bidirectional=False):\n",
    "        super().__init__()\n",
    "        self.layer_type = layer_type.lower()\n",
    "        self.bidirectional = bidirectional  # Store bidirectional flag\n",
    "        self.num_layers = num_decod_layers\n",
    "\n",
    "        self.embed = nn.Embedding(input_size, emb_dim, padding_idx=pad_index)\n",
    "        # nn.init.uniform_(self.embed.weight, -0.1, 0.1)\n",
    "\n",
    "        rnn_cls = self.layer_mode(self.layer_type)\n",
    "        self.layer = rnn_cls(\n",
    "            emb_dim,\n",
    "            hidden_layers_size,\n",
    "            num_decod_layers,\n",
    "            batch_first=True,\n",
    "            bidirectional=bidirectional,\n",
    "            dropout=dropout_rate if num_decod_layers > 1 else 0\n",
    "        )\n",
    "\n",
    "        rnn_output_dim = hidden_layers_size * (2 if bidirectional else 1)\n",
    "        self.fc = nn.Linear(rnn_output_dim, output_size)\n",
    "\n",
    "    def layer_mode(self, layer_type):\n",
    "        if layer_type == \"rnn\":\n",
    "            return nn.RNN\n",
    "        elif layer_type == \"lstm\":\n",
    "            return nn.LSTM\n",
    "        else:\n",
    "            return nn.GRU\n",
    "\n",
    "    def forward(self, inputs: torch.LongTensor, hidden, cell=None):\n",
    "        inputs = inputs.unsqueeze(1)\n",
    "        embed = self.embed(inputs)\n",
    "        \n",
    "        if self.layer_type == \"lstm\":\n",
    "            outputs, (hidden, cell) = self.layer(embed, (hidden, cell))\n",
    "        else:\n",
    "            outputs, hidden = self.layer(embed, hidden)\n",
    "            cell = None\n",
    "            \n",
    "        predict_word = self.fc(outputs.squeeze(1))\n",
    "        return predict_word, hidden, cell"
   ]
  },
  {
   "cell_type": "markdown",
   "id": "6b2bf650",
   "metadata": {},
   "source": [
    "### Sequence to sequence model wrapper"
   ]
  },
  {
   "cell_type": "code",
   "execution_count": null,
   "id": "c6bb2574",
   "metadata": {},
   "outputs": [],
   "source": [
    "\n",
    "class Sequence2Sequence(nn.Module):\n",
    "\n",
    "    \"\"\"\n",
    "    Sequence2Sequence is a modular, PyTorch-based class for building encoder-decoder \n",
    "    architectures tailored to sequence modeling tasks such as machine translation \n",
    "    or transliteration. It supports both teacher forcing during training and beam \n",
    "    search decoding during inference.\n",
    "\n",
    "    Key Components:\n",
    "    - `__init__`: Initializes the encoder, decoder, and output vocabulary. Automatically \n",
    "    detects the recurrent layer type (LSTM/GRU/RNN) from the encoder.\n",
    "    \n",
    "    - `adjust_hidden`: Aligns the number of hidden state layers between the encoder \n",
    "    and decoder, padding or slicing as necessary to prevent shape mismatches \n",
    "    when their layer counts differ.\n",
    "\n",
    "    - `forward`: Defines the training-time forward pass using teacher forcing. For \n",
    "    each timestep, it decides whether to use the ground truth token or the model's \n",
    "    prediction based on a specified teacher forcing ratio. Outputs are collected \n",
    "    across the entire target sequence length.\n",
    "\n",
    "    - `beam_search_decode`: Implements inference using beam search, an advanced decoding \n",
    "    strategy that tracks multiple candidate sequences (beams) simultaneously to find \n",
    "    the most likely output sequence. At each decoding step, it selects the top-k \n",
    "    candidates based on cumulative log-probabilities and terminates early when \n",
    "    the end-of-sequence token is reached in all beams.\n",
    "\n",
    "    Features:\n",
    "    - Handles bidirectional encoders and adjusts their output to fit decoders with a \n",
    "    different number of layers.\n",
    "    - Works with any RNN variant (LSTM, GRU, vanilla RNN).\n",
    "    - Device-agnostic and compatible with GPU or CPU.\n",
    "    - Supports variable-length output sequences and configurable beam width.\n",
    "    - Efficiently avoids runtime errors from mismatched hidden state shapes.\n",
    "\n",
    "    This class provides a flexible and robust foundation for building high-quality \n",
    "    sequence-to-sequence models with both training and inference capabilities.\n",
    "    \"\"\"\n",
    "\n",
    "    def __init__(self, encoder, decoder, output_vocab):\n",
    "        super().__init__()\n",
    "        self.output_vocab = output_vocab\n",
    "        self.encoder = encoder\n",
    "        self.decoder = decoder\n",
    "        self.layer_type = encoder.layer_type.lower()\n",
    "\n",
    "    def adjust_hidden(self, hidden, desired_layers):\n",
    "        current_layers = hidden.size(0)\n",
    "        if current_layers < desired_layers:\n",
    "            zeros = torch.zeros(desired_layers - current_layers, \n",
    "                              hidden.size(1), \n",
    "                              hidden.size(2),\n",
    "                              device=hidden.device,\n",
    "                              dtype=hidden.dtype)\n",
    "            adjusted = torch.cat([hidden, zeros], dim=0)\n",
    "        else:\n",
    "            adjusted = hidden[:desired_layers]\n",
    "        return adjusted\n",
    "\n",
    "    def forward(self, input_sequence, target_sequence, teacher_force_ratio=0.5):\n",
    "        batch_size = input_sequence.size(0)\n",
    "        target_len = target_sequence.size(1)\n",
    "        outputs = torch.zeros(batch_size, target_len, len(self.output_vocab)).to(input_sequence.device)\n",
    "\n",
    "        hidden, cell = self.encoder(input_sequence)\n",
    "        \n",
    "        # Calculate required dimensions\n",
    "        encoder_directions = 2 if self.encoder.bidirectional else 1\n",
    "        decoder_directions = 2 if self.decoder.bidirectional else 1\n",
    "        encoder_total = self.encoder.num_encod_layers * encoder_directions\n",
    "        decoder_total = self.decoder.num_layers * decoder_directions\n",
    "\n",
    "        # Adjust hidden states\n",
    "        hidden = self.adjust_hidden(hidden, decoder_total)\n",
    "        cell = self.adjust_hidden(cell, decoder_total) if cell is not None else None\n",
    "\n",
    "        x = target_sequence[:, 0]\n",
    "        for t in range(1, target_len):\n",
    "            output, hidden, cell = self.decoder(x, hidden, cell)\n",
    "            outputs[:, t] = output\n",
    "            x = target_sequence[:, t] if random.random() < teacher_force_ratio else output.argmax(1)\n",
    "            \n",
    "        return outputs\n",
    "\n",
    "    def beam_search_decode(self, input_sequence, sos_token, eos_token, beam_width=3, max_len=30):\n",
    "        self.encoder.eval()\n",
    "        self.decoder.eval()\n",
    "\n",
    "        with torch.no_grad():\n",
    "            device = input_sequence.device\n",
    "            hidden, cell = self.encoder(input_sequence)\n",
    "\n",
    "            # Calculate required dimensions\n",
    "            encoder_directions = 2 if self.encoder.bidirectional else 1\n",
    "            decoder_directions = 2 if self.decoder.bidirectional else 1\n",
    "            encoder_total = self.encoder.num_encod_layers * encoder_directions\n",
    "            decoder_total = self.decoder.num_layers * decoder_directions\n",
    "\n",
    "            # Adjust hidden states\n",
    "            hidden = self.adjust_hidden(hidden, decoder_total)\n",
    "            cell = self.adjust_hidden(cell, decoder_total) if cell is not None else None\n",
    "\n",
    "            beams = [([sos_token], 0.0, hidden, cell)]\n",
    "            completed_sequences = []\n",
    "\n",
    "            for _ in range(max_len):\n",
    "                temp_beams = []\n",
    "                for seq, score, h, c in beams:\n",
    "                    if seq[-1] == eos_token:\n",
    "                        completed_sequences.append((seq, score))\n",
    "                        continue\n",
    "\n",
    "                    last_token = torch.LongTensor([seq[-1]]).to(device)\n",
    "                    out, h_new, c_new = self.decoder(last_token, h, c)\n",
    "                    log_probs = torch.log_softmax(out, dim=1)\n",
    "                    top_log_probs, top_indices = torch.topk(log_probs, beam_width)\n",
    "\n",
    "                    for i in range(beam_width):\n",
    "                        token = top_indices[0][i].item()\n",
    "                        new_seq = seq + [token]\n",
    "                        new_score = score + top_log_probs[0][i].item()\n",
    "                        temp_beams.append((new_seq, new_score, h_new, c_new))\n",
    "\n",
    "                beams = sorted(temp_beams, key=lambda x: x[1], reverse=True)[:beam_width]\n",
    "                if all(seq[-1] == eos_token for seq, _, _, _ in beams):\n",
    "                    completed_sequences.extend(beams)\n",
    "                    break\n",
    "\n",
    "            if not completed_sequences:\n",
    "                completed_sequences = beams\n",
    "\n",
    "            best_sequence = max(completed_sequences, key=lambda x: x[1])[0]\n",
    "            return best_sequence"
   ]
  },
  {
   "cell_type": "markdown",
   "id": "f7b4b487",
   "metadata": {},
   "source": [
    "### Calculates the Accuracy of the model"
   ]
  },
  {
   "cell_type": "code",
   "execution_count": null,
   "id": "6e2d0f13",
   "metadata": {},
   "outputs": [],
   "source": [
    "\n",
    "class AccuracyCalculator:\n",
    "    \"\"\"\n",
    "    AccuracyCalculator is a utility class designed to evaluate the performance of sequence-to-sequence\n",
    "    models, particularly in NLP tasks such as translation or transliteration. It calculates both\n",
    "    character-level and sequence-level accuracies while correctly handling special tokens like \n",
    "    <eos> (end-of-sequence) and <pad> (padding).\n",
    "\n",
    "    Attributes:\n",
    "    -----------\n",
    "    eos_idx : int\n",
    "        The index of the <eos> token in the output vocabulary.\n",
    "    pad_idx : int\n",
    "        The index of the <pad> token in the output vocabulary.\n",
    "    device : torch.device\n",
    "        The device (CPU or CUDA) where computations are performed.\n",
    "\n",
    "    Methods:\n",
    "    --------\n",
    "    _trim_batch_at_eos(sequences):\n",
    "        Trims each sequence in a batch up to and including its first <eos> token.\n",
    "        If no <eos> is found, the full sequence is retained.\n",
    "\n",
    "    compute_accuracy(predictions, targets):\n",
    "        Computes:\n",
    "        - Character-level accuracy: percentage of correct tokens, excluding <pad>.\n",
    "        - Sequence-level accuracy: percentage of completely correct sequences, based on exact\n",
    "          match after trimming both predictions and targets at the <eos> token.\n",
    "        Returns a dictionary with detailed accuracy statistics.\n",
    "    \"\"\"\n",
    "\n",
    "    def __init__(self, eos_token: str, pad_token: str, vocab_out: dict, device: torch.device):\n",
    "        \"\"\"\n",
    "        eos_token: the string for <eos>\n",
    "        pad_token: the string for <pad>\n",
    "        vocab_out:  token->index mapping for your output vocab\n",
    "        device:     torch.device (e.g. 'cuda' or 'cpu')\n",
    "        \"\"\"\n",
    "        self.device = device\n",
    "        self.eos_idx = vocab_out[eos_token]\n",
    "        self.pad_idx = vocab_out[pad_token]\n",
    "\n",
    "\n",
    "    def _trim_batch_at_eos(self, sequences: torch.LongTensor):\n",
    "        \"\"\"\n",
    "        sequences: (batch_size, seq_len)\n",
    "        Returns: list of 1D LongTensors, each trimmed to include its first <eos> (if any),\n",
    "                 or the full length if no <eos> appears.\n",
    "        \"\"\"\n",
    "        batch_size, seq_len = sequences.size()\n",
    "        trimmed = []\n",
    "        # move to CPU & numpy for easy indexing\n",
    "        seqs = sequences.detach().cpu().tolist()\n",
    "        for seq in seqs:\n",
    "            if self.eos_idx in seq:\n",
    "                end = seq.index(self.eos_idx) + 1\n",
    "                trimmed.append(torch.tensor(seq[:end], dtype=torch.long, device=self.device))\n",
    "            else:\n",
    "                trimmed.append(torch.tensor(seq, dtype=torch.long, device=self.device))\n",
    "        return trimmed\n",
    "\n",
    "    def compute_accuracy(self,\n",
    "                         predictions: torch.LongTensor,\n",
    "                         targets:     torch.LongTensor\n",
    "                         ) -> dict:\n",
    "        \"\"\"\n",
    "        predictions: (batch_size, seq_len) of token-indices, already argmaxed\n",
    "        targets:     (batch_size, seq_len) of token-indices, contains <sos>…<eos> and padding\n",
    "        \"\"\"\n",
    "        predictions = predictions.to(self.device)\n",
    "        targets     = targets.to(self.device)\n",
    "\n",
    "        batch_size, seq_len = targets.shape\n",
    "\n",
    "        # 1) Character-level accuracy (ignoring PAD completely)\n",
    "        nonpad_mask   = targets != self.pad_idx                # (B, L) bool\n",
    "        char_correct  = ((predictions == targets) & nonpad_mask).sum().item()\n",
    "        char_total    = nonpad_mask.sum().item()\n",
    "        char_accuracy = char_correct / char_total if char_total > 0 else 0.0\n",
    "\n",
    "        # 2) Sequence-level accuracy\n",
    "        #    Trim both preds & targets at each target's <eos>, then compare exactly.\n",
    "        pred_trimmed = self._trim_batch_at_eos(predictions)\n",
    "        targ_trimmed = self._trim_batch_at_eos(targets)\n",
    "\n",
    "        seq_correct = 0\n",
    "        for p_seq, t_seq in zip(pred_trimmed, targ_trimmed):\n",
    "            if p_seq.size(0) == t_seq.size(0) and torch.equal(p_seq, t_seq):\n",
    "                seq_correct += 1\n",
    "\n",
    "        seq_accuracy = seq_correct / batch_size if batch_size > 0 else 0.0\n",
    "\n",
    "        return {\n",
    "            'sequence_accuracy':   seq_accuracy,\n",
    "            'character_accuracy':  char_accuracy,\n",
    "            'correct_sequences':   seq_correct,\n",
    "            'total_sequences':     batch_size,\n",
    "            'correct_characters':  char_correct,\n",
    "            'total_characters':    char_total\n",
    "        }\n"
   ]
  },
  {
   "cell_type": "markdown",
   "id": "6fb8970d",
   "metadata": {},
   "source": [
    "### Model Training Function\n",
    "Defines the training loop that runs the model over the training data, calculates loss, and updates weights."
   ]
  },
  {
   "cell_type": "code",
   "execution_count": null,
   "id": "7423b7bc",
   "metadata": {},
   "outputs": [],
   "source": [
    "class Train_Model:\n",
    "    \"\"\"\n",
    "    The `Train_Model` class encapsulates the entire training process of a sequence-to-sequence (Seq2Seq) model in PyTorch. \n",
    "\n",
    "    ### Class Overview:\n",
    "    This class is designed to simplify and modularize the training pipeline by integrating the key components: \n",
    "    - the model (`seq2seq`)\n",
    "    - data loading (`dataloader`)\n",
    "    - loss calculation (`loss_fn`)\n",
    "    - accuracy tracking (`acc_calculator`)\n",
    "    - optimization (`optimizer`)\n",
    "    - device management (CPU/GPU).\n",
    "\n",
    "    ### Key Components:\n",
    "\n",
    "    1. **Initialization (`__init__`)**:\n",
    "    Initializes the class with user-defined components and assigns them to instance variables for later use during training.\n",
    "\n",
    "    2. **`count_params(model)`**:\n",
    "    A utility method to count and return the number of trainable parameters in the model, providing insights into model complexity.\n",
    "\n",
    "    3. **`train(teacher_force_ratio=0)`**:\n",
    "    Performs one epoch of training on the dataset:\n",
    "    - Sets the model in training mode and moves it to the specified device.\n",
    "    - Iterates over batches using a progress bar (`tqdm`), showing live loss and accuracy metrics.\n",
    "    - Moves input and target batches to the correct device.\n",
    "    - Feeds input and target sequences into the model with optional teacher forcing.\n",
    "    - Extracts the most likely predictions using `torch.max`.\n",
    "    - Trims the predictions and targets to ignore special tokens like `<sos>` during accuracy computation.\n",
    "    - Flattens the outputs and targets for loss calculation.\n",
    "    - Computes the loss and accuracy using the provided functions.\n",
    "    - Performs backpropagation, applies gradient clipping to prevent exploding gradients, and updates model parameters.\n",
    "    - Tracks cumulative loss and accuracy metrics (both sequence-level and character-level).\n",
    "    - Displays running metrics live using `tqdm`.\n",
    "\n",
    "    ### Returns:\n",
    "    At the end of each epoch, it returns:\n",
    "    - The average training loss\n",
    "    - Character-level accuracy\n",
    "    - Sequence-level accuracy\n",
    "\n",
    "    This class provides a reusable, modular, and robust interface for training RNN-based Seq2Seq models, with detailed accuracy tracking and safe optimization via gradient clipping.\n",
    "    \"\"\"\n",
    "\n",
    "    def __init__(self, seq2seq, dataloader, optimizer, loss_fn, acc_calculator, device):\n",
    "        self.dataloader = dataloader\n",
    "        self.optimizer = optimizer\n",
    "        self.loss_fn = loss_fn\n",
    "        self.acc_calculator = acc_calculator\n",
    "        self.device = device\n",
    "        self.seq2seq = seq2seq\n",
    "\n",
    "    def count_params(self,model):\n",
    "        return sum(param.numel() for param in model.parameters() if param.requires_grad)\n",
    "\n",
    "    def train(self, teacher_force_ratio=0):\n",
    "        self.seq2seq.to(self.device)\n",
    "        self.seq2seq.train()\n",
    "\n",
    "        epoch_loss = 0\n",
    "        seq_acc = 0\n",
    "        character_acc = 0\n",
    "        total_seqs = 0\n",
    "        total_chars = 0\n",
    "\n",
    "        progress_bar = tqdm(self.dataloader, desc=\"Training Batches\")\n",
    "\n",
    "\n",
    "        for input_batch, target_batch in progress_bar:\n",
    "            \n",
    "            # print(\"Target batch shape in train method\", target_batch.shape)\n",
    "\n",
    "            # print(\"Total batches in train method\", len(self.dataloader))\n",
    "\n",
    "            input_batch = input_batch.to(self.device)\n",
    "            target_batch = target_batch.to(self.device)\n",
    "\n",
    "            self.optimizer.zero_grad()\n",
    "\n",
    "            output = self.seq2seq(input_batch, target_batch, teacher_force_ratio)\n",
    "            # print(\"Output shape in train method\", output.shape)\n",
    "\n",
    "            _ , predicted = torch.max(output, dim=2)\n",
    "\n",
    "            # Ignore <sos> token when evaluating\n",
    "            predicted_trimmed = predicted[:, 1:]\n",
    "            target_trimmed = target_batch[:, 1:]\n",
    "\n",
    "            # Flatten the output and target for loss calculation\n",
    "            output_flatten = output.view(-1, output.shape[-1])\n",
    "            # print(\"Flattened output shape in train method\", output_flatten.shape)\n",
    "\n",
    "            target_flatten = target_batch.reshape(-1).to(self.device)\n",
    "            # print(\"Flattened target shape in train method\", target_flatten.shape)\n",
    "\n",
    "            loss = self.loss_fn(output_flatten, target_flatten)\n",
    "            acc = self.acc_calculator.compute_accuracy(predicted_trimmed, target_trimmed)\n",
    "            # print(\"Sequence Accuracy:\", acc['sequence_accuracy'])\n",
    "            # print(\"Character Accuracy:\", acc['character_accuracy'])\n",
    "\n",
    "            loss.backward()\n",
    "            # Add gradient clipping here\n",
    "            torch.nn.utils.clip_grad_norm_(self.seq2seq.parameters(), max_norm=1)\n",
    "            self.optimizer.step()\n",
    "\n",
    "            epoch_loss += loss.item()\n",
    "            seq_acc += acc['correct_sequences']\n",
    "            total_seqs += acc['total_sequences']\n",
    "\n",
    "            character_acc += acc['correct_characters']\n",
    "            total_chars += acc['total_characters']\n",
    "\n",
    "            avg_seq_acc = seq_acc / total_seqs if total_seqs > 0 else 0.0\n",
    "            avg_char_acc = character_acc / total_chars if total_chars > 0 else 0.0\n",
    "\n",
    "            progress_bar.set_postfix({\n",
    "                'Train_loss': loss.item(),\n",
    "                'seq_acc': f\"{avg_seq_acc:.2%}\",\n",
    "                'char_acc': f\"{avg_char_acc:.2%}\"\n",
    "            })\n",
    "\n",
    "        return epoch_loss / len(self.dataloader), avg_char_acc, avg_seq_acc\n",
    "\n"
   ]
  },
  {
   "cell_type": "markdown",
   "id": "97fac442",
   "metadata": {},
   "source": [
    "### Model Evaluation Function\n",
    "Defines how the model is evaluated on the validation set without teacher forcing. Calculates validation loss."
   ]
  },
  {
   "cell_type": "code",
   "execution_count": null,
   "id": "54a971ff",
   "metadata": {},
   "outputs": [],
   "source": [
    "class Evaluate_Model:\n",
    "    \"\"\"\n",
    "    This class encapsulates the evaluation logic for a sequence-to-sequence (seq2seq) model,\n",
    "    providing an organized and streamlined way to measure model performance on validation or test data.\n",
    "\n",
    "    Upon initialization, it accepts:\n",
    "    - seq2seq: the seq2seq model instance to be evaluated.\n",
    "    - dataloader: a PyTorch DataLoader supplying batches of input-target pairs.\n",
    "    - loss_fn: a loss function to quantify the model's prediction error.\n",
    "    - acc_calculator: a utility to compute accuracy at both sequence and character levels.\n",
    "    - device: the compute device (CPU/GPU) on which computations will be performed.\n",
    "\n",
    "    The primary method `evaluate` performs inference on the entire dataset in evaluation mode:\n",
    "    - Supports optional beam search decoding to improve prediction quality by exploring multiple output sequences.\n",
    "    - Iterates over batches, transfers data to the specified device, and generates predictions.\n",
    "    - Ensures prediction and target sequences are properly padded and aligned for loss and accuracy calculations.\n",
    "    - Computes batch-wise loss and detailed accuracy metrics (sequence-level and character-level).\n",
    "    - Provides a tqdm progress bar to visually track evaluation progress and live metrics.\n",
    "    - Returns averaged loss, character accuracy, and sequence accuracy over the dataset.\n",
    "\n",
    "    This design cleanly separates evaluation from training logic, making the evaluation process modular,\n",
    "    transparent, and easy to integrate into model training and experimentation workflows.\n",
    "    \"\"\"\n",
    "\n",
    "    def __init__(self, seq2seq, dataloader, loss_fn, acc_calculator, device):\n",
    "        self.dataloader = dataloader\n",
    "        self.loss_fn = loss_fn\n",
    "        self.acc_calculator = acc_calculator\n",
    "        self.device = device\n",
    "        self.seq2seq = seq2seq\n",
    "\n",
    "    def evaluate(self, beam_search=False, beam_width=3):\n",
    "        self.seq2seq.eval()\n",
    "        self.seq2seq.to(self.device)\n",
    "\n",
    "        epoch_loss = 0\n",
    "        seq_acc = 0\n",
    "        character_acc = 0\n",
    "        total_seqs = 0\n",
    "        total_chars = 0\n",
    "\n",
    "        progress_bar = tqdm(self.dataloader, desc=\"Evaluation Batches\")\n",
    "\n",
    "        with torch.no_grad():\n",
    "            for input_batch, target_batch in progress_bar:\n",
    "                input_batch = input_batch.to(self.device)\n",
    "                target_batch = target_batch.to(self.device)\n",
    "                \n",
    "\n",
    "                if beam_search:\n",
    "                    # Beam search decoding\n",
    "                    batch_size = input_batch.size(0)\n",
    "                    decoded_batch = []\n",
    "                    for i in range(batch_size):\n",
    "                        predicted_ids = self.seq2seq.beam_search_decode(\n",
    "                            input_batch[i].unsqueeze(0),\n",
    "                            sos_token=self.seq2seq.output_vocab[SOS],\n",
    "                            eos_token=self.seq2seq.output_vocab[EOS],\n",
    "                            beam_width=beam_width\n",
    "                        )\n",
    "                        decoded_batch.append(torch.tensor(predicted_ids, device=self.device))\n",
    "\n",
    "                    # Pad decoded sequences for comparison\n",
    "                    max_len = max(len(seq) for seq in decoded_batch)\n",
    "                    predicted_tensor = torch.full((batch_size, max_len), fill_value=self.seq2seq.output_vocab[PAD], device=self.device)\n",
    "                    for i, seq in enumerate(decoded_batch):\n",
    "                        predicted_tensor[i, :len(seq)] = seq\n",
    "                else:\n",
    "                    output = self.seq2seq(input_batch, target_batch, teacher_force_ratio=0)\n",
    "                    _, predicted = torch.max(output, dim=2)\n",
    "                    predicted_tensor = predicted\n",
    "\n",
    "                # --- Fix for length mismatch between prediction and target ---\n",
    "                predicted_tensor = predicted_tensor[:, :target_batch.size(1)]\n",
    "                if predicted_tensor.size(1) < target_batch.size(1):\n",
    "                    pad_len = target_batch.size(1) - predicted_tensor.size(1)\n",
    "                    pad = torch.full((predicted_tensor.size(0), pad_len), self.seq2seq.output_vocab[PAD], device=self.device)\n",
    "                    predicted_tensor = torch.cat([predicted_tensor, pad], dim=1)\n",
    "                # -------------------------------------------------------------\n",
    "\n",
    "                # Compute loss\n",
    "                output = self.seq2seq(input_batch, target_batch, teacher_force_ratio=0)\n",
    "                output_flat = output.view(-1, output.shape[-1])\n",
    "                target_flat = target_batch.view(-1)\n",
    "\n",
    "                loss = self.loss_fn(output_flat, target_flat)\n",
    "\n",
    "                # Accuracy\n",
    "                pred_trimmed = predicted_tensor[:, 1:]\n",
    "                target_trimmed = target_batch[:, 1:]\n",
    "\n",
    "                acc = self.acc_calculator.compute_accuracy(pred_trimmed, target_trimmed)\n",
    "\n",
    "                epoch_loss += loss.item()\n",
    "                seq_acc += acc['correct_sequences']\n",
    "                total_seqs += acc['total_sequences']\n",
    "                character_acc += acc['correct_characters']\n",
    "                total_chars += acc['total_characters']\n",
    "\n",
    "                avg_seq_acc = seq_acc / total_seqs if total_seqs > 0 else 0.0\n",
    "                avg_char_acc = character_acc / total_chars if total_chars > 0 else 0.0\n",
    "\n",
    "            progress_bar.set_postfix({\n",
    "                'Val_loss': loss.item(),\n",
    "                'seq_acc': f\"{avg_seq_acc:.2%}\",\n",
    "                'char_acc': f\"{avg_char_acc:.2%}\"\n",
    "            })\n",
    "\n",
    "        return epoch_loss / len(self.dataloader), avg_char_acc, avg_seq_acc\n"
   ]
  },
  {
   "cell_type": "code",
   "execution_count": 11,
   "id": "730c4b7d",
   "metadata": {},
   "outputs": [
    {
     "name": "stdout",
     "output_type": "stream",
     "text": [
      "Using MPS device\n"
     ]
    }
   ],
   "source": [
    "# Check if mps is available\n",
    "\n",
    "if torch.backends.mps.is_available():\n",
    "    device = torch.device(\"mps\")\n",
    "    print(\"Using MPS device\")\n",
    "else:\n",
    "    device = torch.device(\"cpu\")\n",
    "    print(\"Using CPU device\")\n",
    "\n"
   ]
  },
  {
   "cell_type": "code",
   "execution_count": 13,
   "id": "590bf0de",
   "metadata": {},
   "outputs": [],
   "source": [
    "# device = torch.device('cuda' if torch.cuda.is_available() else 'cpu')\n",
    "# device"
   ]
  },
  {
   "cell_type": "markdown",
   "id": "258f685b",
   "metadata": {},
   "source": [
    "### FUll model wrapper "
   ]
  },
  {
   "cell_type": "code",
   "execution_count": null,
   "id": "75470420",
   "metadata": {},
   "outputs": [],
   "source": [
    "\n",
    "\n",
    "class Build_Model:\n",
    "    \"\"\"\n",
    "    This class, Build_Model, encapsulates the end-to-end construction, training, validation, and optional testing \n",
    "    of a sequence-to-sequence (seq2seq) deep learning model, designed for tasks involving sequential data \n",
    "    (e.g., transliteration, translation).\n",
    "\n",
    "    Key features and workflow:\n",
    "\n",
    "    - Initialization accepts core components such as data preprocessors, encoder, decoder, the seq2seq model class, \n",
    "    batch size, dataset file paths, and the device for computation (CPU/GPU).\n",
    "\n",
    "    - It preprocesses training and validation datasets using the provided sequence_data_preprocessor, sharing \n",
    "    vocabulary mappings between train and validation sets to ensure consistent token encoding.\n",
    "\n",
    "    - Datasets are wrapped into PyTorch DataLoader objects for efficient mini-batch training with shuffling.\n",
    "\n",
    "    - The build() method:\n",
    "    - Dynamically instantiates encoder and decoder architectures with configurable parameters like embedding size, \n",
    "        hidden layer dimensions, number of layers, dropout, bidirectionality, and recurrent layer type (RNN/LSTM/GRU).\n",
    "    - Combines these into a seq2seq model and moves it to the specified device.\n",
    "    - Defines optimizer (Adam) and loss function (CrossEntropyLoss ignoring padding tokens).\n",
    "    - Tracks accuracy at character and sequence levels using a custom accuracy calculator.\n",
    "    - Implements an epoch-wise training loop with exponential decay of teacher forcing ratio to gradually reduce \n",
    "        reliance on ground truth inputs during decoding.\n",
    "    - Monitors validation loss for early stopping with patience, saving the best model checkpoint.\n",
    "    - Logs metrics optionally to Weights & Biases for experiment tracking.\n",
    "    - Reports parameter counts and epoch runtimes for transparency.\n",
    "\n",
    "    - Supports an optional testing phase:\n",
    "    - Loads the best saved model.\n",
    "    - Prepares test data with consistent vocabularies.\n",
    "    - Evaluates the model with optional beam search decoding.\n",
    "\n",
    "    - Returns the trained model, training and evaluation objects, logs of loss and accuracy across phases, and \n",
    "    a dictionary of hyperparameters and configuration details.\n",
    "\n",
    "    This class offers a clean, modular, and extensible framework to build robust seq2seq models with full lifecycle \n",
    "    support including preprocessing, training with teacher forcing decay, validation, checkpointing, testing, \n",
    "    and experiment logging, making it ideal for sequential prediction problems.\n",
    "    \"\"\"\n",
    "\n",
    "    def __init__(self, \n",
    "                 sequence_data_preprocessor,\n",
    "                 encoder, \n",
    "                 decoder, \n",
    "                 seq2seq, \n",
    "                 batch_size,\n",
    "                 train_path,\n",
    "                 val_path,\n",
    "                 device = device\n",
    "                 ):\n",
    "        \n",
    "        self.sequence_data_preprocessor = sequence_data_preprocessor\n",
    "        self.encoder = encoder\n",
    "        self.decoder = decoder\n",
    "        self.seq2seq = seq2seq\n",
    "        self.batch_size = batch_size\n",
    "        self.train_path = train_path\n",
    "        self.val_path = val_path\n",
    "        self.device = device\n",
    "\n",
    "        # Process datasets\n",
    "        train_processor = self.sequence_data_preprocessor(self.train_path)\n",
    "        self.train_input_tensor, self.train_target_tensor, self.input_vocab , self.output_vocab = train_processor.prepare_tensors()\n",
    "\n",
    "        # Pass shared vocab to val/test processors\n",
    "        val_processor = self.sequence_data_preprocessor(self.val_path, input_vocab=self.input_vocab, output_vocab=self.output_vocab)\n",
    "        self.val_input_tensor, self.val_target_tensor, _, _ = val_processor.prepare_tensors()\n",
    "\n",
    "\n",
    "\n",
    "        # Creat Datasets\n",
    "        train_data = Datasets(self.train_input_tensor, self.train_target_tensor)\n",
    "        val_data = Datasets(self.val_input_tensor, self.val_target_tensor)\n",
    "\n",
    "\n",
    "        # Create DataLoader\n",
    "        self.train_dataloader = DataLoader(train_data, batch_size=self.batch_size, shuffle=True)\n",
    "        self.val_dataloader = DataLoader(val_data, batch_size=self.batch_size, shuffle=True)\n",
    "\n",
    "\n",
    "    def epoch_time(self, start_time, end_time):\n",
    "        e_time = end_time - start_time\n",
    "        mins = e_time // 60\n",
    "        secs = e_time%60\n",
    "        return mins, secs,\n",
    "\n",
    "    def build(\n",
    "        self, emb_size, layer_type, hidden_layers_size, num_encod_layers, num_decod_layers,\n",
    "        dropout_rate, epochs, learning_rate, teacher_force_ratio=0, bidirectional=False,\n",
    "        save_path='best_model.pt', patience=3, val_beam_search=False, beam_width=3,\n",
    "        testing_phase=False, test_path=None, test_beam_search=False, wandb_log = False\n",
    "    ):\n",
    "        # Instantiate encoder, decoder, seq2seq as before\n",
    "        encoder = self.encoder(\n",
    "            input_size=len(self.input_vocab),\n",
    "            layer_type=layer_type,\n",
    "            emb_dim=emb_size,\n",
    "            hidden_layers_size=hidden_layers_size,\n",
    "            num_encod_layers=num_encod_layers,\n",
    "            dropout_rate=dropout_rate,\n",
    "            pad_index=self.input_vocab[PAD],\n",
    "            bidirectional=bidirectional\n",
    "        ).to(self.device)\n",
    "\n",
    "        decoder = self.decoder(\n",
    "            input_size=len(self.output_vocab),\n",
    "            output_size=len(self.output_vocab),\n",
    "            layer_type=layer_type,\n",
    "            emb_dim=emb_size,\n",
    "            hidden_layers_size=hidden_layers_size,\n",
    "            num_decod_layers=num_decod_layers,\n",
    "            dropout_rate=dropout_rate,\n",
    "            pad_index=self.output_vocab[PAD],\n",
    "            bidirectional=bidirectional\n",
    "        ).to(self.device)\n",
    "\n",
    "        seq2seq = self.seq2seq(encoder, decoder, self.output_vocab).to(self.device)\n",
    "\n",
    "\n",
    "        optimizer = optim.Adam(seq2seq.parameters(), lr=learning_rate)\n",
    "        criterion = nn.CrossEntropyLoss(ignore_index=self.output_vocab[PAD]).to(self.device)\n",
    "\n",
    "        acc_calculator = AccuracyCalculator(\n",
    "            eos_token=EOS,\n",
    "            pad_token=PAD,\n",
    "            vocab_out=self.output_vocab,\n",
    "            device=self.device\n",
    "        )\n",
    "\n",
    "\n",
    "        train_model = Train_Model(seq2seq, self.train_dataloader, optimizer, criterion, acc_calculator, self.device)\n",
    "        evaluate_model = Evaluate_Model(seq2seq, self.val_dataloader, criterion, acc_calculator, self.device)\n",
    "\n",
    "        print(f'The model has {train_model.count_params(seq2seq):,} trainable parameters')\n",
    "\n",
    "\n",
    "        best_val_loss = float('inf')\n",
    "        best_model_state = None\n",
    "        epochs_no_improve = 0\n",
    "\n",
    "        best_train_loss, best_train_char_acc, best_train_seq_acc = None, None, None\n",
    "        best_val_char_acc, best_val_seq_acc = None, None\n",
    "\n",
    "\n",
    "        for epoch in range(epochs):\n",
    "            start_time = time.time()\n",
    "\n",
    "            # === Compute teacher forcing ratio (Exponential Decay) ===\n",
    "            decay_rate = 0.05  # You can tune this (0.03 - 0.1 are typical)\n",
    "            current_tfr = teacher_force_ratio * np.exp(-decay_rate * epoch)\n",
    "            current_tfr = max(0.0, current_tfr)  # Prevent going below 0\n",
    "            print(f'\\nEpoch {epoch+1}/{epochs}{\" \"*40}Teacher Forcing Ratio: {current_tfr:.4f}\\n{\"-\"*80}')\n",
    "\n",
    "            train_loss, train_char_acc, train_seq_acc = train_model.train(teacher_force_ratio=current_tfr)\n",
    "\n",
    "            print(f'Train Loss: {train_loss:.4f} | Train Char Acc: {train_char_acc:.4f} | Train Seq Acc: {train_seq_acc:.4f}')\n",
    "\n",
    "\n",
    "            val_loss, val_char_acc, val_seq_acc = evaluate_model.evaluate(beam_search=val_beam_search, beam_width=beam_width)\n",
    "            print(f'Val   Loss: {val_loss:.4f} | Val Char Acc: {val_char_acc:.4f} | Val Seq Acc: {val_seq_acc:.4f}')\n",
    "\n",
    "            if wandb_log:\n",
    "                wandb.log({\n",
    "                    'epoch': epoch+1,\n",
    "                    'train_loss': train_loss,\n",
    "                    'train_char_acc': train_char_acc,\n",
    "                    'train_seq_acc': train_seq_acc,\n",
    "                    'val_loss': val_loss,\n",
    "                    'val_char_acc': val_char_acc,\n",
    "                    'val_seq_acc': val_seq_acc\n",
    "                })\n",
    "\n",
    "\n",
    "            end_time = time.time()\n",
    "            epoch_mins, epoch_secs = self.epoch_time(start_time, end_time)\n",
    "\n",
    "            if val_loss < best_val_loss:\n",
    "                best_val_loss = val_loss\n",
    "                best_model_state = copy.deepcopy(seq2seq.state_dict())\n",
    "                best_train_loss = train_loss\n",
    "                best_train_char_acc = train_char_acc\n",
    "                best_train_seq_acc = train_seq_acc\n",
    "                best_val_char_acc = val_char_acc\n",
    "                best_val_seq_acc = val_seq_acc\n",
    "                epochs_no_improve = 0\n",
    "                print(f\"\\nValidation improved, but waiting to confirm best over next {patience} epochs...\")\n",
    "\n",
    "            else:\n",
    "                epochs_no_improve += 1\n",
    "                print(f\"\\nNo improvement. Patience: {epochs_no_improve}/{patience}\")\n",
    "\n",
    "                if epochs_no_improve >= patience:\n",
    "                    print(f\"\\nSaving best model from {epoch+1 - patience} epoch(s) ago with val loss: {best_val_loss:.4f}\")\n",
    "                    torch.save(best_model_state, save_path)\n",
    "                    print(f\"Best model saved to: {save_path}\")\n",
    "                    break\n",
    "\n",
    "            print(f'\\nEpoch Time: {epoch_mins}m {epoch_secs}s')\n",
    "\n",
    "        if best_model_state is not None:\n",
    "            print(f'\\nTraining ended before confirming best model due to patience.\\n\\n{\"+\"*24}<Training Ended after {epochs} Epochs>{\"+\"*24}')\n",
    "            torch.save(best_model_state, save_path)\n",
    "        else:\n",
    "            print(f'\\nNo improvement observed. Saving final model.\\n\\n{\"+\"*24}<Training Ended after {epochs} Epochs>{\"+\"*24}')\n",
    "            torch.save(seq2seq.state_dict(), save_path)\n",
    "\n",
    "        # === TESTING PHASE BLOCK ===\n",
    "        if testing_phase:\n",
    "            test_path = test_path\n",
    "            if test_path is None:\n",
    "                raise ValueError(\"Test path must be provided for testing_phase=True.\")\n",
    "\n",
    "            print(f'\\n\\n\\n{\"+\"*28}<Testing Phase Started>{\"+\"*28}\\nPreparing test dataset...')\n",
    "            test_processor = self.sequence_data_preprocessor(test_path, input_vocab=self.input_vocab, output_vocab=self.output_vocab)\n",
    "            test_input_tensor, test_target_tensor, _, _ = test_processor.prepare_tensors()\n",
    "            test_data = Datasets(test_input_tensor, test_target_tensor)\n",
    "            self.test_dataloader = DataLoader(test_data, batch_size=self.batch_size, shuffle=False)\n",
    "\n",
    "            print(\"\\nLoading best model for test evaluation...\")\n",
    "            best_seq2seq = self.seq2seq(\n",
    "                encoder=self.encoder(\n",
    "                    input_size=len(self.input_vocab),\n",
    "                    layer_type=layer_type,\n",
    "                    emb_dim=emb_size,\n",
    "                    hidden_layers_size=hidden_layers_size,\n",
    "                    num_encod_layers=num_encod_layers,\n",
    "                    dropout_rate=dropout_rate,\n",
    "                    pad_index=self.input_vocab[PAD],\n",
    "                    bidirectional=bidirectional\n",
    "                ),\n",
    "                decoder=self.decoder(\n",
    "                    input_size=len(self.output_vocab),\n",
    "                    output_size=len(self.output_vocab),\n",
    "                    layer_type=layer_type,\n",
    "                    emb_dim=emb_size,\n",
    "                    hidden_layers_size=hidden_layers_size,\n",
    "                    num_decod_layers=num_decod_layers,\n",
    "                    dropout_rate=dropout_rate,\n",
    "                    pad_index=self.output_vocab[PAD],\n",
    "                    bidirectional=bidirectional\n",
    "                ),\n",
    "                output_vocab=self.output_vocab\n",
    "            ).to(self.device)\n",
    "\n",
    "            best_seq2seq.load_state_dict(torch.load(save_path))\n",
    "            best_seq2seq.eval()\n",
    "\n",
    "            test_eval_model = Evaluate_Model(\n",
    "                seq2seq=best_seq2seq,\n",
    "                dataloader=self.test_dataloader,\n",
    "                loss_fn=criterion,\n",
    "                acc_calculator=acc_calculator,\n",
    "                device=self.device\n",
    "            )\n",
    "\n",
    "            test_loss, test_char_acc, test_seq_acc = test_eval_model.evaluate(beam_search=test_beam_search, beam_width=beam_width)\n",
    "\n",
    "            print(f'\\n Test Loss: {test_loss:.4f} | Test Char Acc: {test_char_acc:.4f} | Test Seq Acc: {test_seq_acc:.4f}\\n{\"+\"*80}')\n",
    "        else:\n",
    "            print(f'\\n No test evaluation triggered. To evaluate, set `testing_phase=True`.\\n{\"+\"*80}')\n",
    "\n",
    "        # === RETURN ===\n",
    "        Loss_accuracy_log = {\n",
    "            'train_loss': best_train_loss,\n",
    "            'train_char_acc': best_train_char_acc,\n",
    "            'train_seq_acc': best_train_seq_acc,\n",
    "            'val_loss': best_val_loss,\n",
    "            'val_char_acc': best_val_char_acc,\n",
    "            'val_seq_acc': best_val_seq_acc\n",
    "        }\n",
    "\n",
    "\n",
    "        if testing_phase:\n",
    "            Loss_accuracy_log.update({\n",
    "                'test_loss': test_loss,\n",
    "                'test_char_acc': test_char_acc,\n",
    "                'test_seq_acc': test_seq_acc\n",
    "            })\n",
    "\n",
    "        Log_best_model_params = {\n",
    "            \"input_vocab\": self.input_vocab,\n",
    "            \"output_vocab\": self.output_vocab,\n",
    "            \"emb_size\": emb_size,\n",
    "            \"layer_type\": layer_type,\n",
    "            \"hidden_layers_size\": hidden_layers_size,\n",
    "            \"num_encod_layers\": num_encod_layers,\n",
    "            \"num_decod_layers\": num_decod_layers,\n",
    "            \"dropout_rate\": dropout_rate,\n",
    "            \"learning_rate\": learning_rate,\n",
    "            \"epochs\": epochs,\n",
    "            \"teacher_force_ratio\": teacher_force_ratio,\n",
    "            \"bidirectional\": bidirectional,\n",
    "            \"patience\": patience,\n",
    "            \"beam_width\": beam_width,\n",
    "            \"save_path\": save_path\n",
    "        }\n",
    "\n",
    "        return seq2seq, train_model, evaluate_model, Loss_accuracy_log, Log_best_model_params\n"
   ]
  },
  {
   "cell_type": "code",
   "execution_count": null,
   "id": "12145ab9",
   "metadata": {},
   "outputs": [],
   "source": [
    "\"\"\"\n",
    "This code snippet configures and executes the training and evaluation of a sequence-to-sequence (Seq2Seq) model with optional beam search decoding for improved prediction quality.\n",
    "Uncomment the code block to run the model.\n",
    "\n",
    "1. Beam Search Setup:\n",
    "   - The beam width parameter controls the decoding strategy during inference.\n",
    "   - A beam width of 1 corresponds to greedy decoding, which picks the most likely token at each step.\n",
    "   - Beam widths greater than 1 enable beam search, which keeps multiple candidate sequences to find more accurate results.\n",
    "\n",
    "2. Model Initialization:\n",
    "   - An instance of the Build_Model class is created, integrating components such as the data preprocessor, encoder, decoder, and the overall Seq2Seq framework.\n",
    "   - Training and validation datasets, batch size, and computing device are provided for setup.\n",
    "\n",
    "3. Model Construction and Training:\n",
    "   - The build method configures the model architecture, specifying embedding size, recurrent layer type (RNN), hidden layer dimensions, number of encoder and decoder layers, dropout for regularization, and training hyperparameters like epochs and learning rate.\n",
    "   - Teacher forcing is applied to stabilize training by using the target sequence as input during early training stages.\n",
    "   - The model is set to bidirectional mode to capture context from both past and future in the input sequence.\n",
    "   - Early stopping patience is configured to halt training if validation metrics do not improve.\n",
    "   - Beam search is enabled for validation and testing phases to enhance sequence decoding accuracy.\n",
    "   - The testing phase is activated, pointing to a test dataset for final evaluation.\n",
    "   - Logging to Weights & Biases (wandb) is optionally disabled here.\n",
    "\n",
    "This structure allows flexible experimentation with decoding strategies and training configurations to optimize performance on sequence prediction tasks such as transliteration, translation, or text generation.\n",
    "\"\"\"\n",
    "\n",
    "\n",
    "# # Set beam width (1 = greedy decoding, >1 = beam search)\n",
    "# beam_width = 3\n",
    "# beam_search = beam_width > 1\n",
    "\n",
    "# # Initialize the model\n",
    "# model = Build_Model(\n",
    "#     sequence_data_preprocessor=SequenceDataPreprocessor,\n",
    "#     encoder=Encoder,\n",
    "#     decoder=Decoder,\n",
    "#     seq2seq=Sequence2Sequence,\n",
    "#     batch_size=32,\n",
    "#     train_path=train_df,\n",
    "#     val_path=dev_df,\n",
    "#     device=device\n",
    "# )\n",
    "\n",
    "# # Build and train the model\n",
    "# seq2seq, train_model, evaluate_model, loss_acc_logs, _ = model.build(\n",
    "#     emb_size=64,\n",
    "#     layer_type=\"gru\",\n",
    "#     hidden_layers_size=512,\n",
    "#     num_encod_layers=3,\n",
    "#     num_decod_layers=3,\n",
    "#     dropout_rate=0.3,\n",
    "#     epochs=30,\n",
    "#     learning_rate=0.0001,\n",
    "#     teacher_force_ratio= 1,\n",
    "#     bidirectional=True,\n",
    "#     patience=1,\n",
    "#     val_beam_search= True,  # Use beam search for validation\n",
    "#     beam_width= 3,\n",
    "#     testing_phase= True,  # Set to True for testing\n",
    "#     test_path=test_df,\n",
    "#     test_beam_search=True,  # Use beam search for testing \n",
    "#     wandb_log = False     \n",
    "# )\n",
    "\n"
   ]
  },
  {
   "cell_type": "code",
   "execution_count": null,
   "id": "6590b7fa",
   "metadata": {},
   "outputs": [
    {
     "name": "stdout",
     "output_type": "stream",
     "text": [
      "The model has 23,719,488 trainable parameters\n",
      "\n",
      "Epoch 1/25                                        Teacher Forcing Ratio: 0.7000\n",
      "--------------------------------------------------------------------------------\n"
     ]
    },
    {
     "name": "stderr",
     "output_type": "stream",
     "text": [
      "Training Batches: 100%|██████████| 2955/2955 [19:20<00:00,  2.55it/s, Train_loss=0.903, seq_acc=15.19%, char_acc=66.83%]\n"
     ]
    },
    {
     "name": "stdout",
     "output_type": "stream",
     "text": [
      "Train Loss: 1.4727 | Train Char Acc: 0.6683 | Train Seq Acc: 0.1519\n"
     ]
    },
    {
     "name": "stderr",
     "output_type": "stream",
     "text": [
      "Evaluation Batches: 100%|██████████| 290/290 [07:44<00:00,  1.60s/it]\n"
     ]
    },
    {
     "name": "stdout",
     "output_type": "stream",
     "text": [
      "Val   Loss: 1.7316 | Val Char Acc: 0.6305 | Val Seq Acc: 0.2780\n",
      "\n",
      "Validation improved, but waiting to confirm best over next 5 epochs...\n",
      "\n",
      "Epoch Time: 27.0m 5.080797910690308s\n",
      "\n",
      "Epoch 2/25                                        Teacher Forcing Ratio: 0.6659\n",
      "--------------------------------------------------------------------------------\n"
     ]
    },
    {
     "name": "stderr",
     "output_type": "stream",
     "text": [
      "Training Batches: 100%|██████████| 2955/2955 [20:22<00:00,  2.42it/s, Train_loss=0.869, seq_acc=39.05%, char_acc=84.59%]\n"
     ]
    },
    {
     "name": "stdout",
     "output_type": "stream",
     "text": [
      "Train Loss: 0.9270 | Train Char Acc: 0.8459 | Train Seq Acc: 0.3905\n"
     ]
    },
    {
     "name": "stderr",
     "output_type": "stream",
     "text": [
      "Evaluation Batches: 100%|██████████| 290/290 [07:49<00:00,  1.62s/it]\n"
     ]
    },
    {
     "name": "stdout",
     "output_type": "stream",
     "text": [
      "Val   Loss: 1.6357 | Val Char Acc: 0.6883 | Val Seq Acc: 0.3624\n",
      "\n",
      "Validation improved, but waiting to confirm best over next 5 epochs...\n",
      "\n",
      "Epoch Time: 28.0m 11.523498058319092s\n",
      "\n",
      "Epoch 3/25                                        Teacher Forcing Ratio: 0.6334\n",
      "--------------------------------------------------------------------------------\n"
     ]
    },
    {
     "name": "stderr",
     "output_type": "stream",
     "text": [
      "Training Batches: 100%|██████████| 2955/2955 [18:28<00:00,  2.67it/s, Train_loss=0.701, seq_acc=52.84%, char_acc=89.24%]\n"
     ]
    },
    {
     "name": "stdout",
     "output_type": "stream",
     "text": [
      "Train Loss: 0.7897 | Train Char Acc: 0.8924 | Train Seq Acc: 0.5284\n"
     ]
    },
    {
     "name": "stderr",
     "output_type": "stream",
     "text": [
      "Evaluation Batches: 100%|██████████| 290/290 [07:46<00:00,  1.61s/it]\n"
     ]
    },
    {
     "name": "stdout",
     "output_type": "stream",
     "text": [
      "Val   Loss: 1.6073 | Val Char Acc: 0.6978 | Val Seq Acc: 0.3811\n",
      "\n",
      "Validation improved, but waiting to confirm best over next 5 epochs...\n",
      "\n",
      "Epoch Time: 26.0m 14.180812120437622s\n",
      "\n",
      "Epoch 4/25                                        Teacher Forcing Ratio: 0.6025\n",
      "--------------------------------------------------------------------------------\n"
     ]
    },
    {
     "name": "stderr",
     "output_type": "stream",
     "text": [
      "Training Batches: 100%|██████████| 2955/2955 [20:00<00:00,  2.46it/s, Train_loss=0.73, seq_acc=62.53%, char_acc=91.91%] \n"
     ]
    },
    {
     "name": "stdout",
     "output_type": "stream",
     "text": [
      "Train Loss: 0.7105 | Train Char Acc: 0.9191 | Train Seq Acc: 0.6253\n"
     ]
    },
    {
     "name": "stderr",
     "output_type": "stream",
     "text": [
      "Evaluation Batches: 100%|██████████| 290/290 [07:50<00:00,  1.62s/it]\n"
     ]
    },
    {
     "name": "stdout",
     "output_type": "stream",
     "text": [
      "Val   Loss: 1.6255 | Val Char Acc: 0.7033 | Val Seq Acc: 0.3870\n",
      "\n",
      "No improvement. Patience: 1/5\n",
      "\n",
      "Epoch Time: 27.0m 50.689335107803345s\n",
      "\n",
      "Epoch 5/25                                        Teacher Forcing Ratio: 0.5731\n",
      "--------------------------------------------------------------------------------\n"
     ]
    },
    {
     "name": "stderr",
     "output_type": "stream",
     "text": [
      "Training Batches: 100%|██████████| 2955/2955 [19:15<00:00,  2.56it/s, Train_loss=0.642, seq_acc=69.37%, char_acc=93.51%]\n"
     ]
    },
    {
     "name": "stdout",
     "output_type": "stream",
     "text": [
      "Train Loss: 0.6619 | Train Char Acc: 0.9351 | Train Seq Acc: 0.6937\n"
     ]
    },
    {
     "name": "stderr",
     "output_type": "stream",
     "text": [
      "Evaluation Batches: 100%|██████████| 290/290 [07:54<00:00,  1.64s/it]\n"
     ]
    },
    {
     "name": "stdout",
     "output_type": "stream",
     "text": [
      "Val   Loss: 1.6427 | Val Char Acc: 0.7030 | Val Seq Acc: 0.3873\n",
      "\n",
      "No improvement. Patience: 2/5\n",
      "\n",
      "Epoch Time: 27.0m 9.747241973876953s\n",
      "\n",
      "Epoch 6/25                                        Teacher Forcing Ratio: 0.5452\n",
      "--------------------------------------------------------------------------------\n"
     ]
    },
    {
     "name": "stderr",
     "output_type": "stream",
     "text": [
      "Training Batches: 100%|██████████| 2955/2955 [20:34<00:00,  2.39it/s, Train_loss=0.715, seq_acc=74.20%, char_acc=94.68%]\n"
     ]
    },
    {
     "name": "stdout",
     "output_type": "stream",
     "text": [
      "Train Loss: 0.6254 | Train Char Acc: 0.9468 | Train Seq Acc: 0.7420\n"
     ]
    },
    {
     "name": "stderr",
     "output_type": "stream",
     "text": [
      "Evaluation Batches: 100%|██████████| 290/290 [08:11<00:00,  1.69s/it]\n"
     ]
    },
    {
     "name": "stdout",
     "output_type": "stream",
     "text": [
      "Val   Loss: 1.6522 | Val Char Acc: 0.7171 | Val Seq Acc: 0.3945\n",
      "\n",
      "No improvement. Patience: 3/5\n",
      "\n",
      "Epoch Time: 28.0m 45.56116080284119s\n",
      "\n",
      "Epoch 7/25                                        Teacher Forcing Ratio: 0.5186\n",
      "--------------------------------------------------------------------------------\n"
     ]
    },
    {
     "name": "stderr",
     "output_type": "stream",
     "text": [
      "Training Batches: 100%|██████████| 2955/2955 [22:39<00:00,  2.17it/s, Train_loss=0.598, seq_acc=77.89%, char_acc=95.47%]\n"
     ]
    },
    {
     "name": "stdout",
     "output_type": "stream",
     "text": [
      "Train Loss: 0.5999 | Train Char Acc: 0.9547 | Train Seq Acc: 0.7789\n"
     ]
    },
    {
     "name": "stderr",
     "output_type": "stream",
     "text": [
      "Evaluation Batches: 100%|██████████| 290/290 [08:29<00:00,  1.76s/it]\n"
     ]
    },
    {
     "name": "stdout",
     "output_type": "stream",
     "text": [
      "Val   Loss: 1.6891 | Val Char Acc: 0.7099 | Val Seq Acc: 0.3851\n",
      "\n",
      "No improvement. Patience: 4/5\n",
      "\n",
      "Epoch Time: 31.0m 9.030283212661743s\n",
      "\n",
      "Epoch 8/25                                        Teacher Forcing Ratio: 0.4933\n",
      "--------------------------------------------------------------------------------\n"
     ]
    },
    {
     "name": "stderr",
     "output_type": "stream",
     "text": [
      "Training Batches: 100%|██████████| 2955/2955 [21:29<00:00,  2.29it/s, Train_loss=0.538, seq_acc=80.82%, char_acc=96.14%]\n"
     ]
    },
    {
     "name": "stdout",
     "output_type": "stream",
     "text": [
      "Train Loss: 0.5782 | Train Char Acc: 0.9614 | Train Seq Acc: 0.8082\n"
     ]
    },
    {
     "name": "stderr",
     "output_type": "stream",
     "text": [
      "Evaluation Batches: 100%|██████████| 290/290 [07:46<00:00,  1.61s/it]\n"
     ]
    },
    {
     "name": "stdout",
     "output_type": "stream",
     "text": [
      "Val   Loss: 1.7324 | Val Char Acc: 0.7112 | Val Seq Acc: 0.3798\n",
      "\n",
      "No improvement. Patience: 5/5\n",
      "\n",
      "Saving best model from 3 epoch(s) ago with val loss: 1.6073\n",
      "Best model saved to: best_model.pt\n",
      "\n",
      "Training ended before confirming best model due to patience.\n",
      "\n",
      "++++++++++++++++++++++++<Training Ended after 25 Epochs>++++++++++++++++++++++++\n",
      "\n",
      "\n",
      "\n",
      "++++++++++++++++++++++++++++<Testing Phase Started>++++++++++++++++++++++++++++\n",
      "Preparing test dataset...\n",
      "\n",
      "Loading best model for test evaluation...\n"
     ]
    },
    {
     "name": "stderr",
     "output_type": "stream",
     "text": [
      "Evaluation Batches: 100%|██████████| 289/289 [07:43<00:00,  1.60s/it]"
     ]
    },
    {
     "name": "stdout",
     "output_type": "stream",
     "text": [
      "\n",
      " Test Loss: 1.6305 | Test Char Acc: 0.6932 | Test Seq Acc: 0.3761\n",
      "++++++++++++++++++++++++++++++++++++++++++++++++++++++++++++++++++++++++++++++++\n"
     ]
    },
    {
     "name": "stderr",
     "output_type": "stream",
     "text": [
      "\n"
     ]
    }
   ],
   "source": [
    "\"\"\"\n",
    "use this code block to run the model and turn on the testing phase as True and\n",
    "set test_path to the test_df and set test_beam_search to True to use beam search for testing\n",
    "\"\"\"\n",
    "\n",
    "# Set beam width (1 = greedy decoding, >1 = beam search)\n",
    "beam_width = 3\n",
    "beam_search = beam_width > 1\n",
    "\n",
    "# Initialize the model\n",
    "model = Build_Model(\n",
    "    sequence_data_preprocessor=SequenceDataPreprocessor,\n",
    "    encoder=Encoder,\n",
    "    decoder=Decoder,\n",
    "    seq2seq=Sequence2Sequence,\n",
    "    batch_size=32,\n",
    "    train_path=train_df,\n",
    "    val_path=dev_df,\n",
    "    device=device\n",
    ")\n",
    "\n",
    "# Build and train the model\n",
    "seq2seq, train_model, evaluate_model, loss_acc_logs, _ = model.build(\n",
    "    emb_size= 256,\n",
    "    layer_type=\"gru\",\n",
    "    hidden_layers_size=512,\n",
    "    num_encod_layers=3,\n",
    "    num_decod_layers=3,\n",
    "    dropout_rate=0.3,\n",
    "    epochs=25,\n",
    "    learning_rate=0.0001,\n",
    "    teacher_force_ratio= 0.7,\n",
    "    bidirectional=True,\n",
    "    patience=5,\n",
    "    val_beam_search= True,  # Use beam search for validation\n",
    "    beam_width= 3,\n",
    "    testing_phase= True,  # Set to True for testing\n",
    "    test_path=test_df,\n",
    "    test_beam_search=True,  # Use beam search for testing \n",
    "    wandb_log = False     \n",
    ")"
   ]
  },
  {
   "cell_type": "code",
   "execution_count": null,
   "id": "e9d260ea",
   "metadata": {},
   "outputs": [],
   "source": [
    "sweep_config = {\n",
    "    'method': 'bayes',\n",
    "    'metric': {\n",
    "        'name': 'val_loss',\n",
    "        'goal': 'minimize'\n",
    "    },\n",
    "    'parameters': {\n",
    "        'emb_size': {'values': [16, 32, 64, 256]},\n",
    "        'hidden_size': {'values': [32, 64, 256]},\n",
    "        'layer_type': {'values': ['rnn', 'gru', 'lstm']},\n",
    "        'enc_layers': {'values': [1, 2 ,3]},\n",
    "        'dec_layers': {'values': [1, 2, 3]},\n",
    "        'dropout': {'values': [0.2, 0.3]},\n",
    "        'learning_rate': {'values': [1e-4, 5e-4, 1e-3]},\n",
    "        'teacher_force_ratio': {'values': [0.3, 0.5, 0.7, 1.0]},\n",
    "        'epochs': {'value': 30},\n",
    "        'bidirectional': {'values': [True, False]},\n",
    "        'beam_width': {'values': [1, 3, 5]},\n",
    "        'val_beam_search': {'values': [True , False]}  \n",
    "    }\n",
    "}\n"
   ]
  },
  {
   "cell_type": "code",
   "execution_count": null,
   "id": "3d06c5ea",
   "metadata": {},
   "outputs": [],
   "source": [
    "def train_wandb_model():\n",
    "    \"\"\"\n",
    "    This function orchestrates the training and monitoring of a sequence-to-sequence\n",
    "    deep learning model using Weights & Biases (wandb) for experiment tracking \n",
    "    and hyperparameter management. It initializes a wandb run session to automatically \n",
    "    capture the experiment configuration and dynamically generates a unique run name \n",
    "    that encodes critical model hyperparameters such as embedding size, hidden layer size, \n",
    "    number of encoder/decoder layers, bidirectionality, dropout rate, and timestamp for traceability.\n",
    "\n",
    "    The model is constructed by invoking the Build_Model class with specified components \n",
    "    including the sequence data preprocessor, encoder, decoder, and seq2seq architecture, \n",
    "    along with training and validation datasets and the device context (CPU/GPU).\n",
    "\n",
    "    Upon building the model, the training and evaluation functions along with training logs \n",
    "    (loss and accuracy metrics) are obtained. The wandb.watch method is used to monitor \n",
    "    model gradients and parameters at a specified logging frequency, enabling detailed insights \n",
    "    during training.\n",
    "\n",
    "    Finally, the function logs the final training and validation loss and accuracy metrics \n",
    "    for both character-level and sequence-level evaluations to wandb, ensuring comprehensive \n",
    "    tracking of model performance metrics. The wandb session is cleanly closed after logging.\n",
    "\n",
    "    This implementation facilitates reproducible and transparent model training workflows, \n",
    "    simplifying hyperparameter sweeps and performance comparisons.\n",
    "    \"\"\"\n",
    "\n",
    "    with wandb.init() as run:\n",
    "        config = wandb.config  # wandb handles this automatically during sweeps\n",
    "\n",
    "        timestamp = datetime.now().strftime(\"%Y%m%d-%H%M%S\")\n",
    "\n",
    "        run.name = (\n",
    "            f\"{config.layer_type}/emb{config.emb_size}-hid{config.hidden_size}-\"\n",
    "            f\"enc{config.enc_layers}-dec{config.dec_layers}-\"\n",
    "            f\"{'bi' if config.bidirectional else 'uni'}-drop{int(config.dropout * 100)}-\"\n",
    "            f\"{timestamp}\"\n",
    "        )\n",
    "        run.save()\n",
    "\n",
    "        model = Build_Model(\n",
    "            sequence_data_preprocessor=SequenceDataPreprocessor,\n",
    "            encoder=Encoder,\n",
    "            decoder=Decoder,\n",
    "            seq2seq=Sequence2Sequence,\n",
    "            batch_size=32,\n",
    "            train_path=train_df,\n",
    "            val_path=dev_df,\n",
    "            device=device\n",
    "        )\n",
    "\n",
    "        seq2seq, train_model, evaluate_model, loss_acc_logs, _ = model.build(\n",
    "            emb_size=config.emb_size,\n",
    "            layer_type=config.layer_type,\n",
    "            hidden_layers_size=config.hidden_size,\n",
    "            num_encod_layers=config.enc_layers,\n",
    "            num_decod_layers=config.dec_layers,\n",
    "            dropout_rate=config.dropout,\n",
    "            epochs=config.epochs,\n",
    "            learning_rate=config.learning_rate,\n",
    "            teacher_force_ratio=config.teacher_force_ratio,\n",
    "            bidirectional=config.bidirectional,\n",
    "            patience=3,\n",
    "            val_beam_search=config.val_beam_search,\n",
    "            beam_width=config.beam_width,\n",
    "            testing_phase=False,\n",
    "            test_path=None,\n",
    "            test_beam_search=False,\n",
    "            wandb_log= True\n",
    "        )\n",
    "\n",
    "        # Start watching after init\n",
    "        wandb.watch(seq2seq, log=\"all\", log_freq=100)\n",
    "\n",
    "        wandb.log({\n",
    "            \"final_train_loss\": loss_acc_logs[\"train_loss\"],\n",
    "            \"final_val_loss\": loss_acc_logs[\"val_loss\"],\n",
    "            \"final_train_char_acc\": loss_acc_logs[\"train_char_acc\"],\n",
    "            \"final_train_seq_acc\": loss_acc_logs[\"train_seq_acc\"],\n",
    "            \"final_val_char_acc\": loss_acc_logs[\"val_char_acc\"],\n",
    "            \"final_val_seq_acc\": loss_acc_logs[\"val_seq_acc\"],\n",
    "        })\n",
    "\n",
    "        wandb.finish()\n"
   ]
  },
  {
   "cell_type": "code",
   "execution_count": 27,
   "id": "2d955ede",
   "metadata": {},
   "outputs": [
    {
     "name": "stdout",
     "output_type": "stream",
     "text": [
      "Create sweep with ID: 90gnl1tc\n",
      "Sweep URL: https://wandb.ai/ed24s014-indian-institute-of-technology-madras/test_seq2seq_without_Attention/sweeps/90gnl1tc\n"
     ]
    },
    {
     "name": "stderr",
     "output_type": "stream",
     "text": [
      "\u001b[34m\u001b[1mwandb\u001b[0m: Agent Starting Run: he2nq8tl with config:\n",
      "\u001b[34m\u001b[1mwandb\u001b[0m: \tbeam_width: 1\n",
      "\u001b[34m\u001b[1mwandb\u001b[0m: \tbidirectional: False\n",
      "\u001b[34m\u001b[1mwandb\u001b[0m: \tdec_layers: 1\n",
      "\u001b[34m\u001b[1mwandb\u001b[0m: \tdropout: 0.3\n",
      "\u001b[34m\u001b[1mwandb\u001b[0m: \temb_size: 16\n",
      "\u001b[34m\u001b[1mwandb\u001b[0m: \tenc_layers: 1\n",
      "\u001b[34m\u001b[1mwandb\u001b[0m: \tepochs: 3\n",
      "\u001b[34m\u001b[1mwandb\u001b[0m: \thidden_size: 256\n",
      "\u001b[34m\u001b[1mwandb\u001b[0m: \tlayer_type: rnn\n",
      "\u001b[34m\u001b[1mwandb\u001b[0m: \tlearning_rate: 0.0001\n",
      "\u001b[34m\u001b[1mwandb\u001b[0m: \tteacher_force_ratio: 0.7\n",
      "\u001b[34m\u001b[1mwandb\u001b[0m: \tval_beam_search: False\n"
     ]
    },
    {
     "data": {
      "text/html": [],
      "text/plain": [
       "<IPython.core.display.HTML object>"
      ]
     },
     "metadata": {},
     "output_type": "display_data"
    },
    {
     "data": {
      "text/html": [
       "Tracking run with wandb version 0.19.10"
      ],
      "text/plain": [
       "<IPython.core.display.HTML object>"
      ]
     },
     "metadata": {},
     "output_type": "display_data"
    },
    {
     "data": {
      "text/html": [
       "Run data is saved locally in <code>/Users/indramandal/Documents/VS_CODE/DA6401/DA6401_Assignment_3/predictions_vanilla/wandb/run-20250504_224310-he2nq8tl</code>"
      ],
      "text/plain": [
       "<IPython.core.display.HTML object>"
      ]
     },
     "metadata": {},
     "output_type": "display_data"
    },
    {
     "data": {
      "text/html": [
       "Syncing run <strong><a href='https://wandb.ai/ed24s014-indian-institute-of-technology-madras/test_seq2seq_without_Attention/runs/he2nq8tl' target=\"_blank\">chocolate-sweep-1</a></strong> to <a href='https://wandb.ai/ed24s014-indian-institute-of-technology-madras/test_seq2seq_without_Attention' target=\"_blank\">Weights & Biases</a> (<a href='https://wandb.me/developer-guide' target=\"_blank\">docs</a>)<br>Sweep page: <a href='https://wandb.ai/ed24s014-indian-institute-of-technology-madras/test_seq2seq_without_Attention/sweeps/90gnl1tc' target=\"_blank\">https://wandb.ai/ed24s014-indian-institute-of-technology-madras/test_seq2seq_without_Attention/sweeps/90gnl1tc</a>"
      ],
      "text/plain": [
       "<IPython.core.display.HTML object>"
      ]
     },
     "metadata": {},
     "output_type": "display_data"
    },
    {
     "data": {
      "text/html": [
       " View project at <a href='https://wandb.ai/ed24s014-indian-institute-of-technology-madras/test_seq2seq_without_Attention' target=\"_blank\">https://wandb.ai/ed24s014-indian-institute-of-technology-madras/test_seq2seq_without_Attention</a>"
      ],
      "text/plain": [
       "<IPython.core.display.HTML object>"
      ]
     },
     "metadata": {},
     "output_type": "display_data"
    },
    {
     "data": {
      "text/html": [
       " View sweep at <a href='https://wandb.ai/ed24s014-indian-institute-of-technology-madras/test_seq2seq_without_Attention/sweeps/90gnl1tc' target=\"_blank\">https://wandb.ai/ed24s014-indian-institute-of-technology-madras/test_seq2seq_without_Attention/sweeps/90gnl1tc</a>"
      ],
      "text/plain": [
       "<IPython.core.display.HTML object>"
      ]
     },
     "metadata": {},
     "output_type": "display_data"
    },
    {
     "data": {
      "text/html": [
       " View run at <a href='https://wandb.ai/ed24s014-indian-institute-of-technology-madras/test_seq2seq_without_Attention/runs/he2nq8tl' target=\"_blank\">https://wandb.ai/ed24s014-indian-institute-of-technology-madras/test_seq2seq_without_Attention/runs/he2nq8tl</a>"
      ],
      "text/plain": [
       "<IPython.core.display.HTML object>"
      ]
     },
     "metadata": {},
     "output_type": "display_data"
    },
    {
     "name": "stdout",
     "output_type": "stream",
     "text": [
      "The model has 158,240 trainable parameters\n",
      "\n",
      "Epoch 1/3                                        Teacher Forcing Ratio: 0.7000\n",
      "--------------------------------------------------------------------------------\n"
     ]
    },
    {
     "name": "stderr",
     "output_type": "stream",
     "text": [
      "Training Batches: 100%|██████████| 2955/2955 [00:21<00:00, 137.06it/s, loss=2.93]\n"
     ]
    },
    {
     "name": "stdout",
     "output_type": "stream",
     "text": [
      "Train Loss: 3.0997 | Train Char Acc: 0.2024 | Train Seq Acc: 0.0000\n"
     ]
    },
    {
     "name": "stderr",
     "output_type": "stream",
     "text": [
      "Evaluation Batches: 100%|██████████| 290/290 [00:01<00:00, 220.39it/s, loss=3.19]\n"
     ]
    },
    {
     "name": "stdout",
     "output_type": "stream",
     "text": [
      "Val   Loss: 3.2022 | Val Char Acc: 0.1941 | Val Seq Acc: 0.0000\n",
      "Validation improved, but waiting to confirm best over next 3 epochs...\n",
      "\n",
      "Epoch Time: 0.0m 22.879174947738647s\n",
      "\n",
      "Epoch 2/3                                        Teacher Forcing Ratio: 0.6659\n",
      "--------------------------------------------------------------------------------\n"
     ]
    },
    {
     "name": "stderr",
     "output_type": "stream",
     "text": [
      "Training Batches: 100%|██████████| 2955/2955 [00:21<00:00, 136.33it/s, loss=3]   \n"
     ]
    },
    {
     "name": "stdout",
     "output_type": "stream",
     "text": [
      "Train Loss: 2.9924 | Train Char Acc: 0.2185 | Train Seq Acc: 0.0000\n"
     ]
    },
    {
     "name": "stderr",
     "output_type": "stream",
     "text": [
      "Evaluation Batches: 100%|██████████| 290/290 [00:01<00:00, 226.12it/s, loss=3.06]\n"
     ]
    },
    {
     "name": "stdout",
     "output_type": "stream",
     "text": [
      "Val   Loss: 3.2254 | Val Char Acc: 0.1930 | Val Seq Acc: 0.0000\n",
      " No improvement. Patience: 1/3\n",
      "\n",
      "Epoch Time: 0.0m 22.960638761520386s\n",
      "\n",
      "Epoch 3/3                                        Teacher Forcing Ratio: 0.6334\n",
      "--------------------------------------------------------------------------------\n"
     ]
    },
    {
     "name": "stderr",
     "output_type": "stream",
     "text": [
      "Training Batches: 100%|██████████| 2955/2955 [00:21<00:00, 137.44it/s, loss=2.95]\n"
     ]
    },
    {
     "name": "stdout",
     "output_type": "stream",
     "text": [
      "Train Loss: 2.9746 | Train Char Acc: 0.2236 | Train Seq Acc: 0.0000\n"
     ]
    },
    {
     "name": "stderr",
     "output_type": "stream",
     "text": [
      "Evaluation Batches: 100%|██████████| 290/290 [00:01<00:00, 223.81it/s, loss=3.19]\n"
     ]
    },
    {
     "name": "stdout",
     "output_type": "stream",
     "text": [
      "Val   Loss: 3.2187 | Val Char Acc: 0.1930 | Val Seq Acc: 0.0000\n",
      " No improvement. Patience: 2/3\n",
      "\n",
      "Epoch Time: 0.0m 22.79924726486206s\n",
      "\n",
      "Training ended before confirming best model due to patience.\n",
      "\n",
      "++++++++++++++++++++++++<Training Ended after 3 Epochs>++++++++++++++++++++++++\n",
      "\n",
      " No test evaluation triggered. To evaluate, set `testing_phase=True`.\n",
      "++++++++++++++++++++++++++++++++++++++++++++++++++++++++++++++++++++++++++++++++\n"
     ]
    },
    {
     "data": {
      "text/html": [],
      "text/plain": [
       "<IPython.core.display.HTML object>"
      ]
     },
     "metadata": {},
     "output_type": "display_data"
    },
    {
     "data": {
      "text/html": [
       "<br>    <style><br>        .wandb-row {<br>            display: flex;<br>            flex-direction: row;<br>            flex-wrap: wrap;<br>            justify-content: flex-start;<br>            width: 100%;<br>        }<br>        .wandb-col {<br>            display: flex;<br>            flex-direction: column;<br>            flex-basis: 100%;<br>            flex: 1;<br>            padding: 10px;<br>        }<br>    </style><br><div class=\"wandb-row\"><div class=\"wandb-col\"><h3>Run history:</h3><br/><table class=\"wandb\"><tr><td>epoch</td><td>▁▅█</td></tr><tr><td>final_train_char_acc</td><td>▁</td></tr><tr><td>final_train_loss</td><td>▁</td></tr><tr><td>final_train_seq_acc</td><td>▁</td></tr><tr><td>final_val_char_acc</td><td>▁</td></tr><tr><td>final_val_loss</td><td>▁</td></tr><tr><td>final_val_seq_acc</td><td>▁</td></tr><tr><td>train_char_acc</td><td>▁▆█</td></tr><tr><td>train_loss</td><td>█▂▁</td></tr><tr><td>train_seq_acc</td><td>▁▁█</td></tr><tr><td>val_char_acc</td><td>█▁▁</td></tr><tr><td>val_loss</td><td>▁█▆</td></tr><tr><td>val_seq_acc</td><td>▁▁▁</td></tr></table><br/></div><div class=\"wandb-col\"><h3>Run summary:</h3><br/><table class=\"wandb\"><tr><td>epoch</td><td>3</td></tr><tr><td>final_train_char_acc</td><td>0.2236</td></tr><tr><td>final_train_loss</td><td>2.97464</td></tr><tr><td>final_train_seq_acc</td><td>1e-05</td></tr><tr><td>final_val_char_acc</td><td>0.19295</td></tr><tr><td>final_val_loss</td><td>3.21869</td></tr><tr><td>final_val_seq_acc</td><td>0</td></tr><tr><td>train_char_acc</td><td>0.2236</td></tr><tr><td>train_loss</td><td>2.97464</td></tr><tr><td>train_seq_acc</td><td>1e-05</td></tr><tr><td>val_char_acc</td><td>0.19295</td></tr><tr><td>val_loss</td><td>3.21869</td></tr><tr><td>val_seq_acc</td><td>0</td></tr></table><br/></div></div>"
      ],
      "text/plain": [
       "<IPython.core.display.HTML object>"
      ]
     },
     "metadata": {},
     "output_type": "display_data"
    },
    {
     "data": {
      "text/html": [
       " View run <strong style=\"color:#cdcd00\">rnn/emb16-hid256-enc1-dec1-uni-drop30-20250504-224311</strong> at: <a href='https://wandb.ai/ed24s014-indian-institute-of-technology-madras/test_seq2seq_without_Attention/runs/he2nq8tl' target=\"_blank\">https://wandb.ai/ed24s014-indian-institute-of-technology-madras/test_seq2seq_without_Attention/runs/he2nq8tl</a><br> View project at: <a href='https://wandb.ai/ed24s014-indian-institute-of-technology-madras/test_seq2seq_without_Attention' target=\"_blank\">https://wandb.ai/ed24s014-indian-institute-of-technology-madras/test_seq2seq_without_Attention</a><br>Synced 5 W&B file(s), 0 media file(s), 0 artifact file(s) and 0 other file(s)"
      ],
      "text/plain": [
       "<IPython.core.display.HTML object>"
      ]
     },
     "metadata": {},
     "output_type": "display_data"
    },
    {
     "data": {
      "text/html": [
       "Find logs at: <code>./wandb/run-20250504_224310-he2nq8tl/logs</code>"
      ],
      "text/plain": [
       "<IPython.core.display.HTML object>"
      ]
     },
     "metadata": {},
     "output_type": "display_data"
    }
   ],
   "source": [
    "sweep_id = wandb.sweep(sweep_config, project=\"test_seq2seq_without_Attention\")\n",
    "wandb.agent(sweep_id, function=train_wandb_model, count=1)\n"
   ]
  },
  {
   "cell_type": "code",
   "execution_count": 61,
   "id": "13402f90",
   "metadata": {},
   "outputs": [],
   "source": [
    "wandb.finish()"
   ]
  },
  {
   "cell_type": "code",
   "execution_count": null,
   "id": "cc84dc7a",
   "metadata": {},
   "outputs": [],
   "source": [
    "\n",
    "def visualize_predictions_grid(seq2seq_model, dataloader, input_vocab, output_vocab, device, num_samples=12, wandb_log=False):\n",
    "    \"\"\"\n",
    "    This function, `visualize_predictions_grid`, provides a clear and visually appealing way to compare\n",
    "    the outputs of a sequence-to-sequence (seq2seq) model with the actual ground truth sequences,\n",
    "    specifically designed for Bangla (Bengali) text transliteration or translation tasks.\n",
    "\n",
    "    Key features:\n",
    "    - It dynamically arranges prediction samples in a grid layout, adjusting rows based on the\n",
    "    specified number of samples and a fixed column count.\n",
    "    - The function decodes token indices back into readable text using provided input and output\n",
    "    vocabularies, carefully omitting padding and special tokens like <pad>, <sos>, and <eos>.\n",
    "    - Bengali text rendering is enhanced by loading a custom Bengali font to ensure proper\n",
    "    display alongside monospace English text labels.\n",
    "    - Each subplot displays the input sequence, the ground truth output, and the model's prediction,\n",
    "    highlighting correct predictions in green and incorrect ones in red for immediate visual feedback.\n",
    "    - The overall figure is titled to reflect the comparison between model predictions and actual outputs.\n",
    "    - The visualization is saved to an in-memory buffer, displayed using matplotlib, and can optionally\n",
    "    be logged to Weights & Biases (wandb) for experiment tracking and sharing.\n",
    "    - The function ensures the seq2seq model is in evaluation mode and uses teacher forcing ratio 0 to\n",
    "    generate predictions autonomously.\n",
    "    - Designed for PyTorch models and dataloaders, this tool is an effective aid in qualitatively\n",
    "    assessing seq2seq model performance on Bangla language tasks, providing both linguistic clarity\n",
    "    and aesthetic appeal.\n",
    "    \"\"\"\n",
    "\n",
    "    # Load Bengali font\n",
    "    font_path = \"/Users/indramandal/Library/Fonts/NotoSansBengali-Regular.ttf\"\n",
    "    bengali_font = fm.FontProperties(fname=font_path, size=13)\n",
    "    english_font = {'family': 'monospace', 'size': 10}\n",
    "\n",
    "    idx2input = {v: k for k, v in input_vocab.items()}\n",
    "    idx2output = {v: k for k, v in output_vocab.items()}\n",
    "\n",
    "    seq2seq_model.eval()\n",
    "    samples_shown = 0\n",
    "\n",
    "    # Dynamic grid layout\n",
    "    cols = 4\n",
    "    rows = math.ceil(num_samples / cols)\n",
    "    fig, axes = plt.subplots(nrows=rows, ncols=cols, figsize=(cols * 5, rows * 3.8))\n",
    "    axes = axes.flatten()\n",
    "\n",
    "    with torch.no_grad():\n",
    "        for input_batch, target_batch in dataloader:\n",
    "            input_batch = input_batch.to(device)\n",
    "            target_batch = target_batch.to(device)\n",
    "\n",
    "            output = seq2seq_model(input_batch, target_batch, teacher_force_ratio=0)\n",
    "            _, predicted = torch.max(output, dim=2)\n",
    "\n",
    "            for i in range(input_batch.size(0)):\n",
    "                if samples_shown >= num_samples:\n",
    "                    break\n",
    "\n",
    "                src_seq = [idx2input[token.item()] for token in input_batch[i] if token.item() not in [input_vocab[\"<pad>\"]]]\n",
    "                tgt_seq = [idx2output[token.item()] for token in target_batch[i] if token.item() not in [output_vocab[\"<pad>\"], output_vocab[\"<eos>\"], output_vocab[\"<sos>\"]]]\n",
    "                pred_seq = [idx2output[token.item()] for token in predicted[i] if token.item() not in [output_vocab[\"<pad>\"], output_vocab[\"<eos>\"], output_vocab[\"<sos>\"]]]\n",
    "\n",
    "                is_correct = pred_seq == tgt_seq\n",
    "\n",
    "                ax = axes[samples_shown]\n",
    "                ax.axis(\"off\")\n",
    "\n",
    "                input_text = \" \".join(src_seq)\n",
    "                gt_text = \"\".join(tgt_seq)\n",
    "                pred_text = \"\".join(pred_seq)\n",
    "\n",
    "                ax.set_title(f\"Sample {samples_shown + 1}\", fontsize=11, color=\"navy\")\n",
    "                ax.text(0.01, 0.95, f\"Input:\\n{input_text}\", fontdict=english_font, va='top')\n",
    "                ax.text(0.01, 0.70, \"Ground Truth:\", fontdict=english_font, va='top')\n",
    "                ax.text(0.01, 0.63, gt_text, fontproperties=bengali_font, va='top', color='black')\n",
    "                ax.text(0.01, 0.47, \"Prediction:\", fontdict=english_font, va='top')\n",
    "                ax.text(0.01, 0.40, pred_text, fontproperties=bengali_font, va='top',\n",
    "                        color='green' if is_correct else 'red')\n",
    "\n",
    "                ax.text(0.01, 0.23, \"Status:\", fontdict=english_font)\n",
    "                ax.text(0.01, 0.16, \"Correct\" if is_correct else \"Wrong\", color='green' if is_correct else 'red', fontweight='bold')\n",
    "\n",
    "                samples_shown += 1\n",
    "\n",
    "            if samples_shown >= num_samples:\n",
    "                break\n",
    "\n",
    "    # Main title\n",
    "    fig.suptitle(\"Bangla Seq2Seq Model Predictions vs Ground Truth\", fontsize=20)\n",
    "    plt.tight_layout(pad=2.0)\n",
    "    plt.subplots_adjust(top=0.92)\n",
    "\n",
    "    # Save and display\n",
    "    buf = io.BytesIO()\n",
    "    plt.savefig(buf, format='png', bbox_inches='tight')\n",
    "    buf.seek(0)\n",
    "    img = Image.open(buf)\n",
    "    plt.show()\n",
    "\n",
    "    # Log to wandb\n",
    "    if wandb_log:\n",
    "        wandb.log({\n",
    "            \"Prediction vs Ground Truth\": wandb.Image(img, caption=\"Bangla Seq2Seq Model Output Comparison\")\n",
    "        })\n",
    "\n",
    "    buf.close()\n"
   ]
  },
  {
   "cell_type": "code",
   "execution_count": null,
   "id": "cc0d37fd",
   "metadata": {},
   "outputs": [],
   "source": [
    "\"\"\"\n",
    "This code snippet handles the preprocessing and preparation of sequence data for training and testing in a machine learning workflow. \n",
    "\n",
    "- First, it initializes a `SequenceDataPreprocessor` instance with the training dataframe, which processes the raw sequences into tensor formats suitable for model input and output. The method `prepare_tensors()` returns the input and target tensors along with the input and output vocabularies created from the training data.\n",
    "\n",
    "- Next, it initializes a second `SequenceDataPreprocessor` for the test dataframe, explicitly reusing the vocabularies generated from the training set to ensure consistent encoding between train and test data.\n",
    "\n",
    "- The processed input and target tensors for both train and test sets are then wrapped into custom `Datasets` objects, which are PyTorch-compatible datasets.\n",
    "\n",
    "- Finally, PyTorch `DataLoader`s are created for both datasets with a batch size of 32. The train loader shuffles data for stochastic training, while the test loader is not shuffled to maintain data order during evaluation.\n",
    "\n",
    "Overall, this code establishes a clean pipeline from raw sequence data to batched tensors ready for training and evaluation in a neural network model.\n",
    "\"\"\"\n",
    "train_processor = SequenceDataPreprocessor(train_df)\n",
    "train_input_tensor, train_target_tensor, vocab_in, vocab_out = train_processor.prepare_tensors()\n",
    "test_processor = SequenceDataPreprocessor(test_df, input_vocab=vocab_in, output_vocab=vocab_out)\n",
    "test_input_tensor, test_target_tensor, _, _ = test_processor.prepare_tensors()\n",
    "# Create datasets\n",
    "test_data = Datasets(test_input_tensor, test_target_tensor)\n",
    "test_dataloader = DataLoader(test_data, batch_size=32, shuffle=False)\n",
    "train_data = Datasets(train_input_tensor, train_target_tensor)\n",
    "train_dataloader = DataLoader(train_data, batch_size=32, shuffle=False)\n"
   ]
  },
  {
   "cell_type": "code",
   "execution_count": null,
   "id": "4871768f",
   "metadata": {},
   "outputs": [
    {
     "data": {
      "text/plain": [
       "Sequence2Sequence(\n",
       "  (encoder): Encoder(\n",
       "    (embed): Embedding(30, 256, padding_idx=0)\n",
       "    (layer): GRU(256, 512, num_layers=3, batch_first=True, dropout=0.3, bidirectional=True)\n",
       "  )\n",
       "  (decoder): Decoder(\n",
       "    (embed): Embedding(64, 256, padding_idx=0)\n",
       "    (layer): GRU(256, 512, num_layers=3, batch_first=True, dropout=0.3, bidirectional=True)\n",
       "    (fc): Linear(in_features=1024, out_features=64, bias=True)\n",
       "  )\n",
       ")"
      ]
     },
     "execution_count": 18,
     "metadata": {},
     "output_type": "execute_result"
    }
   ],
   "source": [
    "\"\"\"\n",
    "This code initializes a high-performance sequence-to-sequence (Seq2Seq) model designed for tasks such as language translation or text generation. The model architecture consists of an Encoder and a Decoder, both utilizing multi-layered GRU (Gated Recurrent Unit) networks to efficiently capture temporal dependencies in sequential data.\n",
    "\n",
    "Key features include:\n",
    "- Vocabulary sizes for both input and output are dynamically set based on provided token dictionaries, ensuring adaptability to different datasets.\n",
    "- Embedding dimensions are set to 256, allowing the model to learn dense vector representations of tokens.\n",
    "- Each of the Encoder and Decoder is composed of 3 GRU layers, each with 512 hidden units, enabling the network to model complex sequential patterns.\n",
    "- Dropout with a rate of 0.3 is applied to prevent overfitting during training.\n",
    "- Both Encoder and Decoder are bidirectional, allowing the model to access context from past and future tokens in the input sequence.\n",
    "- Padding tokens are properly handled via `pad_index` to ensure variable-length sequences are processed correctly without affecting the learning.\n",
    "- The model is transferred to the specified computation device (CPU or GPU) for efficient execution.\n",
    "- The pre-trained model weights are loaded from \"best_model.pt\", and the model is set to evaluation mode to disable dropout and batch normalization, preparing it for inference or validation.\n",
    "\n",
    "Overall, this setup offers a robust and flexible Seq2Seq framework optimized for sequential data modeling with attention to detail in architecture and deployment.\n",
    "\"\"\"\n",
    "best_seq2seq = Sequence2Sequence(\n",
    "    encoder=Encoder(\n",
    "        input_size=len(vocab_in),\n",
    "        layer_type=\"gru\",\n",
    "        emb_dim=256,\n",
    "        hidden_layers_size=512,\n",
    "        num_encod_layers=3,\n",
    "        dropout_rate=0.3,\n",
    "        pad_index=vocab_in[\"<pad>\"],\n",
    "        bidirectional=True  \n",
    "    ),\n",
    "    decoder=Decoder(\n",
    "        input_size=len(vocab_out),\n",
    "        output_size=len(vocab_out),\n",
    "        layer_type=\"gru\",\n",
    "        emb_dim=256,\n",
    "        hidden_layers_size=512,  \n",
    "        num_decod_layers=3,\n",
    "        dropout_rate=0.3,\n",
    "        pad_index=vocab_out[\"<pad>\"],\n",
    "        bidirectional=True  \n",
    "    ),\n",
    "    output_vocab=vocab_out\n",
    ").to(device)\n",
    "\n",
    "best_seq2seq.load_state_dict(torch.load(\"best_model.pt\"))\n",
    "best_seq2seq.eval()\n"
   ]
  },
  {
   "cell_type": "code",
   "execution_count": null,
   "id": "8a6b8329",
   "metadata": {},
   "outputs": [
    {
     "data": {
      "text/html": [],
      "text/plain": [
       "<IPython.core.display.HTML object>"
      ]
     },
     "metadata": {},
     "output_type": "display_data"
    },
    {
     "data": {
      "text/html": [
       "Tracking run with wandb version 0.19.11"
      ],
      "text/plain": [
       "<IPython.core.display.HTML object>"
      ]
     },
     "metadata": {},
     "output_type": "display_data"
    },
    {
     "data": {
      "text/html": [
       "Run data is saved locally in <code>/Users/indramandal/Documents/VS_CODE/DA6401/DA6401_Assignment_3/predictions_vanilla/wandb/run-20250521_092655-ufm49gr6</code>"
      ],
      "text/plain": [
       "<IPython.core.display.HTML object>"
      ]
     },
     "metadata": {},
     "output_type": "display_data"
    },
    {
     "data": {
      "text/html": [
       "Syncing run <strong><a href='https://wandb.ai/ed24s014-indian-institute-of-technology-madras/bangla-seq2seq-eval/runs/ufm49gr6' target=\"_blank\">stilted-star-5</a></strong> to <a href='https://wandb.ai/ed24s014-indian-institute-of-technology-madras/bangla-seq2seq-eval' target=\"_blank\">Weights & Biases</a> (<a href='https://wandb.me/developer-guide' target=\"_blank\">docs</a>)<br>"
      ],
      "text/plain": [
       "<IPython.core.display.HTML object>"
      ]
     },
     "metadata": {},
     "output_type": "display_data"
    },
    {
     "data": {
      "text/html": [
       " View project at <a href='https://wandb.ai/ed24s014-indian-institute-of-technology-madras/bangla-seq2seq-eval' target=\"_blank\">https://wandb.ai/ed24s014-indian-institute-of-technology-madras/bangla-seq2seq-eval</a>"
      ],
      "text/plain": [
       "<IPython.core.display.HTML object>"
      ]
     },
     "metadata": {},
     "output_type": "display_data"
    },
    {
     "data": {
      "text/html": [
       " View run at <a href='https://wandb.ai/ed24s014-indian-institute-of-technology-madras/bangla-seq2seq-eval/runs/ufm49gr6' target=\"_blank\">https://wandb.ai/ed24s014-indian-institute-of-technology-madras/bangla-seq2seq-eval/runs/ufm49gr6</a>"
      ],
      "text/plain": [
       "<IPython.core.display.HTML object>"
      ]
     },
     "metadata": {},
     "output_type": "display_data"
    },
    {
     "name": "stderr",
     "output_type": "stream",
     "text": [
      "/var/folders/16/2v843_gd4x1cty4mwj7r2t780000gn/T/ipykernel_61017/572337513.py:62: UserWarning: Glyph 108 (l) missing from font(s) Noto Sans Bengali.\n",
      "  plt.tight_layout(pad=2.0)\n",
      "/var/folders/16/2v843_gd4x1cty4mwj7r2t780000gn/T/ipykernel_61017/572337513.py:62: UserWarning: Glyph 112 (p) missing from font(s) Noto Sans Bengali.\n",
      "  plt.tight_layout(pad=2.0)\n",
      "/var/folders/16/2v843_gd4x1cty4mwj7r2t780000gn/T/ipykernel_61017/572337513.py:67: UserWarning: Glyph 108 (l) missing from font(s) Noto Sans Bengali.\n",
      "  plt.savefig(buf, format='png', bbox_inches='tight')\n",
      "/var/folders/16/2v843_gd4x1cty4mwj7r2t780000gn/T/ipykernel_61017/572337513.py:67: UserWarning: Glyph 112 (p) missing from font(s) Noto Sans Bengali.\n",
      "  plt.savefig(buf, format='png', bbox_inches='tight')\n",
      "/Users/indramandal/Library/Python/3.9/lib/python/site-packages/IPython/core/pylabtools.py:152: UserWarning: Glyph 108 (l) missing from font(s) Noto Sans Bengali.\n",
      "  fig.canvas.print_figure(bytes_io, **kw)\n",
      "/Users/indramandal/Library/Python/3.9/lib/python/site-packages/IPython/core/pylabtools.py:152: UserWarning: Glyph 112 (p) missing from font(s) Noto Sans Bengali.\n",
      "  fig.canvas.print_figure(bytes_io, **kw)\n"
     ]
    },
    {
     "data": {
      "image/png": "[encoded data removed]",
      "text/plain": [
       "<Figure size 2000x1900 with 20 Axes>"
      ]
     },
     "metadata": {},
     "output_type": "display_data"
    },
    {
     "name": "stderr",
     "output_type": "stream",
     "text": [
      "\u001b[34m\u001b[1mwandb\u001b[0m: \u001b[32m\u001b[41mERROR\u001b[0m The nbformat package was not found. It is required to save notebook history.\n"
     ]
    },
    {
     "data": {
      "text/html": [],
      "text/plain": [
       "<IPython.core.display.HTML object>"
      ]
     },
     "metadata": {},
     "output_type": "display_data"
    },
    {
     "data": {
      "text/html": [
       " View run <strong style=\"color:#cdcd00\">stilted-star-5</strong> at: <a href='https://wandb.ai/ed24s014-indian-institute-of-technology-madras/bangla-seq2seq-eval/runs/ufm49gr6' target=\"_blank\">https://wandb.ai/ed24s014-indian-institute-of-technology-madras/bangla-seq2seq-eval/runs/ufm49gr6</a><br> View project at: <a href='https://wandb.ai/ed24s014-indian-institute-of-technology-madras/bangla-seq2seq-eval' target=\"_blank\">https://wandb.ai/ed24s014-indian-institute-of-technology-madras/bangla-seq2seq-eval</a><br>Synced 5 W&B file(s), 1 media file(s), 0 artifact file(s) and 0 other file(s)"
      ],
      "text/plain": [
       "<IPython.core.display.HTML object>"
      ]
     },
     "metadata": {},
     "output_type": "display_data"
    },
    {
     "data": {
      "text/html": [
       "Find logs at: <code>./wandb/run-20250521_092655-ufm49gr6/logs</code>"
      ],
      "text/plain": [
       "<IPython.core.display.HTML object>"
      ]
     },
     "metadata": {},
     "output_type": "display_data"
    }
   ],
   "source": [
    "\"\"\"\n",
    "This code snippet initializes a Weights & Biases (wandb) project named \"bangla-seq2seq-eval\" to systematically track and log\n",
    "the evaluation of a trained sequence-to-sequence (seq2seq) model. It then visualizes the model's predictions on a batch of\n",
    "test data by displaying a grid of 20 sample inputs alongside their corresponding outputs. The visualization utilizes the\n",
    "input and output vocabularies to decode sequences for interpretability, and the process is conducted on the specified\n",
    "computation device (CPU or GPU). By setting `wandb_log=True`, the results and visualizations are automatically logged to\n",
    "the wandb dashboard, facilitating easy monitoring and sharing of the model's performance. Finally, the wandb session is\n",
    "gracefully closed to ensure all logs are properly saved.\n",
    "\"\"\"\n",
    "# Visualize predictions\n",
    "wandb.init(project=\"bangla-seq2seq-eval\")\n",
    "\n",
    "visualize_predictions_grid(\n",
    "    seq2seq_model=best_seq2seq,\n",
    "    dataloader=test_dataloader,\n",
    "    input_vocab=vocab_in,\n",
    "    output_vocab=vocab_out,\n",
    "    device=device,\n",
    "    num_samples=20,\n",
    "    wandb_log=True\n",
    ")\n",
    "wandb.finish()\n"
   ]
  },
  {
   "cell_type": "code",
   "execution_count": null,
   "id": "cd430005",
   "metadata": {},
   "outputs": [],
   "source": [
    "\n",
    "def export_predictions_to_file(seq2seq_model, dataloader, input_vocab, output_vocab, device, save_path='test_predictions.csv', show_preview=True):\n",
    "    \"\"\"\n",
    "    This function evaluates a trained sequence-to-sequence (seq2seq) model on a given dataset and exports its predictions to a CSV file. \n",
    "\n",
    "    It performs the following key steps:\n",
    "    - Converts input and output vocabulary dictionaries to index-to-token mappings for easier decoding.\n",
    "    - Sets special token strings for padding (<pad>), start-of-sequence (<sos>), and end-of-sequence (<eos>).\n",
    "    - Switches the model to evaluation mode and disables gradient computations to optimize inference speed.\n",
    "    - Iterates through batches from the provided dataloader, moving input and target tensors to the specified device.\n",
    "    - Generates predictions without teacher forcing by forwarding inputs through the seq2seq model.\n",
    "    - Converts model output token indices back to readable sequences, filtering out special tokens.\n",
    "    - Compares each predicted sequence to its ground truth target to mark predictions as correct or wrong.\n",
    "    - Aggregates all results into a structured list of dictionaries, each containing the input sequence, ground truth, predicted output, and correctness status.\n",
    "    - Writes these results into a CSV file at the specified path with appropriate headers.\n",
    "    - Prints a confirmation message indicating successful export.\n",
    "\n",
    "    This utility helps in qualitative and quantitative analysis of model performance by providing an easy-to-review file format, supporting debugging and reporting in sequence prediction tasks like machine translation, transliteration, or text summarization.\n",
    "\n",
    "    Parameters:\n",
    "    - seq2seq_model: The trained sequence-to-sequence model to be evaluated.\n",
    "    - dataloader: A PyTorch DataLoader providing batches of input and target sequences.\n",
    "    - input_vocab: Dictionary mapping input tokens to indices.\n",
    "    - output_vocab: Dictionary mapping output tokens to indices.\n",
    "    - device: The torch device (CPU or GPU) on which tensors should be processed.\n",
    "    - save_path (str): File path to save the CSV with predictions (default: 'test_predictions.csv').\n",
    "    - show_preview (bool): Optional flag to enable previewing results (not used in current code).\n",
    "\n",
    "    Returns:\n",
    "    None\n",
    "    \"\"\"\n",
    "    \n",
    "    idx2input = {v: k for k, v in input_vocab.items()}\n",
    "    idx2output = {v: k for k, v in output_vocab.items()}\n",
    "\n",
    "    PAD = \"<pad>\"\n",
    "    EOS = \"<eos>\"\n",
    "    SOS = \"<sos>\"\n",
    "\n",
    "    all_data = []\n",
    "\n",
    "    seq2seq_model.eval()\n",
    "    with torch.no_grad():\n",
    "        for input_batch, target_batch in dataloader:\n",
    "            input_batch = input_batch.to(device)\n",
    "            target_batch = target_batch.to(device)\n",
    "\n",
    "            output = seq2seq_model(input_batch, target_batch, teacher_force_ratio=0)\n",
    "            _, predicted = torch.max(output, dim=2)\n",
    "\n",
    "            for i in range(input_batch.size(0)):\n",
    "                src_seq = [idx2input[token.item()] for token in input_batch[i] if token.item() != input_vocab[PAD]]\n",
    "                tgt_seq = [idx2output[token.item()] for token in target_batch[i] if token.item() not in [output_vocab[PAD], output_vocab[EOS], output_vocab[SOS]]]\n",
    "                pred_seq = [idx2output[token.item()] for token in predicted[i] if token.item() not in [output_vocab[PAD], output_vocab[EOS], output_vocab[SOS]]]\n",
    "\n",
    "                is_correct = pred_seq == tgt_seq\n",
    "                status = \"Correct\" if is_correct else \"Wrong\"\n",
    "\n",
    "                all_data.append({\n",
    "                    \"Input Sequence\": \" \".join(src_seq),\n",
    "                    \"Ground Truth\": \"\".join(tgt_seq),\n",
    "                    \"Prediction\": \"\".join(pred_seq),\n",
    "                    \"Status\": status\n",
    "                })\n",
    "\n",
    "    # Write to CSV\n",
    "    with open(save_path, mode='w', newline='', encoding='utf-8') as f:\n",
    "        writer = csv.DictWriter(f, fieldnames=[\"Input Sequence\", \"Ground Truth\", \"Prediction\", \"Status\"])\n",
    "        writer.writeheader()\n",
    "        writer.writerows(all_data)\n",
    "\n",
    "    print(f\"\\n Test predictions exported to: {save_path}\")\n",
    "\n"
   ]
  },
  {
   "cell_type": "code",
   "execution_count": null,
   "id": "a943e84d",
   "metadata": {},
   "outputs": [
    {
     "name": "stdout",
     "output_type": "stream",
     "text": [
      "\n",
      " Test predictions exported to: test_predictions_without_attention.csv\n"
     ]
    }
   ],
   "source": [
    "\"\"\"\n",
    "This code snippet uses the trained sequence-to-sequence (seq2seq) model `best_seq2seq` to generate predictions on \n",
    "the data provided by `test_dataloader`. It leverages the input and output vocabularies (`vocab_in` and `vocab_out`) \n",
    "to correctly interpret and decode sequences during inference. The model runs on the specified computation `device` \n",
    "(e.g., CPU or GPU) to optimize performance. The resulting predictions are then exported and saved into a CSV file \n",
    "named \"test_predictions_without_attention.csv\". This organized output facilitates subsequent evaluation, \n",
    "analysis, or submission of the model's performance on unseen test data.\n",
    "\"\"\"\n",
    "# Use your best model and test dataloader\n",
    "export_predictions_to_file(best_seq2seq, test_dataloader, vocab_in, vocab_out, device, save_path=\"test_predictions_without_attention.csv\")\n"
   ]
  },
  {
   "cell_type": "code",
   "execution_count": null,
   "id": "d6916ec8",
   "metadata": {},
   "outputs": [],
   "source": []
  }
 ],
 "metadata": {
  "kernelspec": {
   "display_name": "Python 3",
   "language": "python",
   "name": "python3"
  },
  "language_info": {
   "codemirror_mode": {
    "name": "ipython",
    "version": 3
   },
   "file_extension": ".py",
   "mimetype": "text/x-python",
   "name": "python",
   "nbconvert_exporter": "python",
   "pygments_lexer": "ipython3",
   "version": "3.9.6"
  }
 },
 "nbformat": 4,
 "nbformat_minor": 5
}
